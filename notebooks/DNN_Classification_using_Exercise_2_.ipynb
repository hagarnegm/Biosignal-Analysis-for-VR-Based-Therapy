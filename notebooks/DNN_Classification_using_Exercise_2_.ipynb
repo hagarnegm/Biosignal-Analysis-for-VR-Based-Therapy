{
  "cells": [
    {
      "cell_type": "code",
      "execution_count": null,
      "id": "ed4139e0",
      "metadata": {
        "id": "ed4139e0"
      },
      "outputs": [],
      "source": [
        "import os\n",
        "import scipy as sp\n",
        "import numpy as np\n",
        "import pandas as pd\n",
        "import scipy.io as io\n",
        "from scipy import signal\n",
        "import matplotlib.pyplot as plt"
      ]
    },
    {
      "cell_type": "code",
      "execution_count": null,
      "id": "7201c706",
      "metadata": {
        "pycharm": {
          "name": "#%%\n"
        },
        "id": "7201c706"
      },
      "outputs": [],
      "source": [
        "def iemg(data):\n",
        "    \"\"\"\n",
        "    :param data: EMG signal samples within rolling window\n",
        "    :return: Integrated EMG which is the summation of the absolute values of the EMG signal amplitude.\n",
        "    It is used as an onset index to detect muscle activity.\n",
        "    \"\"\"\n",
        "    return np.sum(np.abs(data), axis=1)\n",
        "\n",
        "\n",
        "def mav(data):\n",
        "    \"\"\"\n",
        "    :param data: EMG signal samples within rolling window\n",
        "    :return: Mean Absolute Value which is the average of the absolute values of the EMG signal.\n",
        "    It is used for the detection of muscle contraction levels.\n",
        "    \"\"\"\n",
        "    return np.mean(np.abs(data), axis=1)\n",
        "\n",
        "\n",
        "def mmav1(data):\n",
        "    \"\"\"\n",
        "    :param data: EMG signal samples within rolling window\n",
        "    :return: Modified Mean Absolute Value 1 which is an extension of the MAV by applying a discrete\n",
        "    weighting window function.\n",
        "    \"\"\"\n",
        "    llim = int(0.25 * data.shape[1])\n",
        "    hlim = int(0.75 * data.shape[1]) + 1\n",
        "    r1 = np.arange(0, llim)\n",
        "    r2 = np.arange(llim, hlim)\n",
        "    r3 = np.arange(hlim, data.shape[1])\n",
        "\n",
        "    return np.mean(np.concatenate((np.abs(np.take(data, r1, axis=1)) * 0.5, np.abs(np.take(data, r2, axis=1)),\n",
        "                                   np.abs(np.take(data, r3, axis=1)) * 0.5), axis=1), axis=1)\n",
        "\n",
        "\n",
        "def mmav2(data):\n",
        "    \"\"\"\n",
        "    :param data: EMG signal samples within rolling window\n",
        "    :return: Modified Mean Absolute Value 2 which is similar to MMAV2 but a smoother continuous\n",
        "    weighting window function is used.\n",
        "    \"\"\"\n",
        "    llim = int(0.25 * data.shape[1])\n",
        "    hlim = int(0.75 * data.shape[1]) + 1\n",
        "    r1 = np.arange(0, llim)\n",
        "    r2 = np.arange(llim, hlim)\n",
        "    r3 = np.arange(hlim, data.shape[1])\n",
        "    c1 = (4 * (r1 + 1) / data.shape[1])[np.newaxis, :, np.newaxis]\n",
        "    c2 = (4 * (r3 + 1 - data.shape[1]) / data.shape[1])[np.newaxis, :, np.newaxis]\n",
        "\n",
        "    return np.mean(np.concatenate((np.abs(np.take(data, r1, axis=1)) * c1, np.abs(np.take(data, r2, axis=1)),\n",
        "                                   np.abs(np.take(data, r3, axis=1)) * c2), axis=1), axis=1)\n",
        "\n",
        "\n",
        "def mavslp(data):\n",
        "    \"\"\"\n",
        "    :param mavs: Mean Absolute Value of each EMG segment\n",
        "    :return: The slope/difference of the MAV segments of the EMG signal.\n",
        "    \"\"\"\n",
        "    mavs = mav(data)\n",
        "    return np.insert(np.diff(mavs, axis=0), 0, 0, axis=0)\n",
        "\n",
        "\n",
        "def ssi(data):\n",
        "    \"\"\"\n",
        "    :param data: EMG signal samples within rolling window\n",
        "    :return: Simple Square Integral which is the energy of the sEMG signal segment.\n",
        "    \"\"\"\n",
        "    return np.sum(np.power(np.abs(data), 2), axis=1)\n",
        "\n",
        "\n",
        "def variance(data):\n",
        "    \"\"\"\n",
        "    :param data: EMG signal samples within rolling window\n",
        "    :return: Variance which is the average of the square of the signal's deviation from the mean.\n",
        "    It uses the signals power as a feature.\n",
        "    \"\"\"\n",
        "    return np.var(data, axis=1)\n",
        "\n",
        "\n",
        "def rms(data):\n",
        "    \"\"\"\n",
        "    :param data: EMG signal samples within rolling window\n",
        "    :return: Root Mean Square which is the standard deviation of the signal amplitude values.\n",
        "    It is related to the constant force and non-fatiguing contraction of the muscle.\n",
        "    \"\"\"\n",
        "    return np.sqrt(np.mean(data ** 2, axis=1))\n",
        "\n",
        "\n",
        "def wl(data):\n",
        "    \"\"\"\n",
        "    :param data: EMG signal samples within rolling window\n",
        "    :return: Waveform Length which is the cumulative length of the waveform over the time segment.\n",
        "    It is related to the waveform amplitude, frequency and time.\n",
        "    \"\"\"\n",
        "    return np.sum(np.abs(np.diff(data, axis=1)), axis=1)\n",
        "\n",
        "\n",
        "def zc2(data, thresh=10):\n",
        "    \"\"\"\n",
        "    :param data: EMG signal samples within rolling window\n",
        "    :return: Zero Crossing which is the number of times the signal values cross zero.\n",
        "    It provides an approximation of the signal frequency. The threshold used is for reducing the effect of noise.\n",
        "    \"\"\"\n",
        "    tmp_data = data.copy()\n",
        "    tmp_data[np.abs(tmp_data) < thresh] = 0\n",
        "    return np.count_nonzero(np.diff(np.sign(tmp_data), axis=1), axis=1)\n",
        "\n",
        "\n",
        "def zc(data, th=10):\n",
        "    \"\"\"\n",
        "    :param data: EMG signal samples within rolling window segment\n",
        "    :param th: Threshold used to reduce noise effects\n",
        "    :return: Zero Crossing which is the number of times the signal values cross zero.\n",
        "    It provides an approximation of the signal frequency. The threshold used is for reducing the effect of noise.\n",
        "    \"\"\"\n",
        "    return np.sum((np.diff(np.sign(data), axis=1) != 0) & (np.abs(np.diff(data, axis=1)) > th), axis=1)\n",
        "\n",
        "\n",
        "def ssc(data, th=10):\n",
        "    \"\"\"\n",
        "    :param data: EMG signal samples within rolling window segment\n",
        "    :param th: Threshold used to reduce noise effects\n",
        "    :return: Slope Sign Changes which is the number of changes between positive and negative slopes of the signal.\n",
        "    It also provides information about the signal frequency. The threshold used is for reducing the effect of noise.\n",
        "    \"\"\"\n",
        "    pos_slope = (-np.diff(data, prepend=1, axis=1) > 0) & (np.diff(data, append=1, axis=1) > 0)\n",
        "    neg_slope = (-np.diff(data, prepend=1, axis=1) < 0) & (np.diff(data, append=1, axis=1) < 0)\n",
        "    denoised = (np.abs(-np.diff(data, prepend=1, axis=1)) > th) | (np.abs(np.diff(data, append=1, axis=1)) > th)\n",
        "    ssc_ = (pos_slope | neg_slope) & denoised\n",
        "    return np.sum(np.delete(ssc_, [0, -1], axis=1), axis=1)\n",
        "\n",
        "\n",
        "def wamp(data, th=10):\n",
        "    \"\"\"\n",
        "    :param data: EMG signal samples within rolling window\n",
        "    :param th: Threshold used to reduce noise effects\n",
        "    :return: Wilson's Amplitude which is the number of times that the difference between two consecutive signal segments\n",
        "    passes a certain threshold, which is also used to reduce the effect of noise. WAMP is related to the firing of\n",
        "    motor unit action potentials (MUAP) and the muscle contraction levels.\n",
        "    \"\"\"\n",
        "    x = np.abs(np.diff(data, axis=1))\n",
        "    above = x > th\n",
        "    return np.sum(above, axis=1)\n",
        "\n",
        "\n",
        "def kurtosis(data):\n",
        "    \"\"\"\n",
        "    :param data: EMG signal samples within rolling window\n",
        "    :return: Kurtosis which is a statistical measure that defines how the tails of a distribution differs\n",
        "    from the tails of a normal distribution. It identifies the presence of extreme values in the EMG signal.\n",
        "    \"\"\"\n",
        "    return sp.stats.kurtosis(data, axis=1)\n",
        "\n",
        "\n",
        "def skewness(data):\n",
        "    \"\"\"\n",
        "    :param data: EMG signal samples within rolling window\n",
        "    :return: Skewness which measures the lack of symmetry of a distribution. It also identifies the\n",
        "    presence of extreme values in the EMG signal.\n",
        "    \"\"\"\n",
        "    return sp.stats.skew(data, axis=1)\n",
        "\n",
        "\n",
        "def sd(data):\n",
        "    return np.std(data, axis=1)\n",
        "\n",
        "\n",
        "def mean(data):\n",
        "    return np.mean(data, axis=1)"
      ]
    },
    {
      "cell_type": "code",
      "source": [
        "!pip install nitime"
      ],
      "metadata": {
        "id": "ej8QgWWQPiqh",
        "colab": {
          "base_uri": "https://localhost:8080/"
        },
        "outputId": "e809b033-0996-4b6b-9773-dbcf3379c519"
      },
      "id": "ej8QgWWQPiqh",
      "execution_count": null,
      "outputs": [
        {
          "output_type": "stream",
          "name": "stdout",
          "text": [
            "Collecting nitime\n",
            "  Downloading nitime-0.9.tar.gz (6.2 MB)\n",
            "\u001b[K     |████████████████████████████████| 6.2 MB 27.8 MB/s \n",
            "\u001b[?25hRequirement already satisfied: numpy in /usr/local/lib/python3.7/dist-packages (from nitime) (1.21.5)\n",
            "Requirement already satisfied: cython in /usr/local/lib/python3.7/dist-packages (from nitime) (0.29.28)\n",
            "Requirement already satisfied: scipy in /usr/local/lib/python3.7/dist-packages (from nitime) (1.4.1)\n",
            "Requirement already satisfied: matplotlib in /usr/local/lib/python3.7/dist-packages (from nitime) (3.2.2)\n",
            "Requirement already satisfied: networkx in /usr/local/lib/python3.7/dist-packages (from nitime) (2.6.3)\n",
            "Requirement already satisfied: nibabel in /usr/local/lib/python3.7/dist-packages (from nitime) (3.0.2)\n",
            "Requirement already satisfied: kiwisolver>=1.0.1 in /usr/local/lib/python3.7/dist-packages (from matplotlib->nitime) (1.3.2)\n",
            "Requirement already satisfied: python-dateutil>=2.1 in /usr/local/lib/python3.7/dist-packages (from matplotlib->nitime) (2.8.2)\n",
            "Requirement already satisfied: cycler>=0.10 in /usr/local/lib/python3.7/dist-packages (from matplotlib->nitime) (0.11.0)\n",
            "Requirement already satisfied: pyparsing!=2.0.4,!=2.1.2,!=2.1.6,>=2.0.1 in /usr/local/lib/python3.7/dist-packages (from matplotlib->nitime) (3.0.7)\n",
            "Requirement already satisfied: six>=1.5 in /usr/local/lib/python3.7/dist-packages (from python-dateutil>=2.1->matplotlib->nitime) (1.15.0)\n",
            "Building wheels for collected packages: nitime\n",
            "  Building wheel for nitime (setup.py) ... \u001b[?25l\u001b[?25hdone\n",
            "  Created wheel for nitime: filename=nitime-0.9-cp37-cp37m-linux_x86_64.whl size=4032156 sha256=ab5555e68a4c9e7b07b9c683c76aeb74b5640b301dd11a250ba816a82bc33281\n",
            "  Stored in directory: /root/.cache/pip/wheels/8e/1b/71/d7d584087121ac331c444b913abeb116b527dad2a0f1d9157a\n",
            "Successfully built nitime\n",
            "Installing collected packages: nitime\n",
            "Successfully installed nitime-0.9\n"
          ]
        }
      ]
    },
    {
      "cell_type": "code",
      "source": [
        "from nitime.algorithms.autoregressive import AR_est_YW\n",
        "\n",
        "def frequency_domain(data, fs, win_len, wind_stride):\n",
        "    \"\"\"\n",
        "    :param data: EMG signal\n",
        "    :param fs: Sampling frequency of EMG signal\n",
        "    :param win_len: Number of EMG signal samples per STFT sliding window segment\n",
        "    :param wind_stride: Number of overlapping samples\n",
        "    :return: Power Spectrum and Frequency range of the EMG signal resulting from a short time fourier transform\n",
        "    \"\"\"\n",
        "    frequencies, t, fourier_coefficients = signal.stft(data, fs=fs, window='cosine', nperseg=win_len, padded=False,\n",
        "                                                       noverlap=wind_stride, boundary=None, axis=0)\n",
        "    power_spectrum = np.square(np.abs(np.transpose(fourier_coefficients, (2, 0, 1))))\n",
        "    return frequencies, power_spectrum\n",
        "\n",
        "\n",
        "def ar_coefficients(data, order):\n",
        "    ak, _ = AR_est_YW(data, order)\n",
        "    return ak\n",
        "\n",
        "\n",
        "def mnf(frequencies, power_spectrum):\n",
        "    \"\"\"\n",
        "    :param frequencies: Frequency range of the power spectrum\n",
        "    :param power_spectrum: Power of the EMG signal at different frequencies\n",
        "    :return: Mean Frequency which is the average frequency of the power spectrum\n",
        "    \"\"\"\n",
        "    return np.divide(np.sum(np.multiply(power_spectrum, np.repeat(frequencies, power_spectrum.shape[2]).reshape(\n",
        "        power_spectrum.shape[1], power_spectrum.shape[2])), axis=1), np.sum(power_spectrum, axis=1))\n",
        "\n",
        "\n",
        "def mdf(frequencies, power_spectrum):\n",
        "    \"\"\"\n",
        "    :param frequencies: Frequency range of the power spectrum\n",
        "    :param power_spectrum: Power of the EMG signal at different frequencies\n",
        "    :return: Median Frequency which is the frequency at which the spectrum is divided into two regions with equal power\n",
        "    \"\"\"\n",
        "    med_freq = np.zeros((power_spectrum.shape[0], power_spectrum.shape[2]))\n",
        "    for indx, segment in enumerate(power_spectrum):\n",
        "        differences = []\n",
        "        for ind in range(frequencies.shape[0]):\n",
        "            diff = np.abs(np.subtract(np.sum(segment[:ind, :], axis=0), 0.5 * np.sum(segment, axis=0)))\n",
        "            differences.append(diff)\n",
        "\n",
        "        differences = np.array(differences)\n",
        "        med_freq[indx, :] = frequencies[differences.argmin(axis=0)]\n",
        "\n",
        "    return med_freq\n",
        "\n",
        "\n",
        "def mmnf(frequencies, power_spectrum):\n",
        "    \"\"\"\n",
        "    :param frequencies: Frequency range of the power spectrum\n",
        "    :param power_spectrum: Power of the EMG signal at different frequencies\n",
        "    :return: Modified Mean Frequency which uses the amplitude spectrum instead of the power spectrum\n",
        "    \"\"\"\n",
        "    amplitude_spectrum = np.sqrt(power_spectrum)\n",
        "    return np.divide(np.sum(np.multiply(amplitude_spectrum, np.repeat(frequencies, amplitude_spectrum.shape[2]).reshape(\n",
        "        amplitude_spectrum.shape[1], amplitude_spectrum.shape[2])), axis=1), np.sum(amplitude_spectrum, axis=1))\n",
        "\n",
        "\n",
        "def mmdf(frequencies, power_spectrum):\n",
        "    \"\"\"\n",
        "    :param frequencies: Frequency range of the power spectrum\n",
        "    :param power_spectrum: Power of the EMG signal at different frequencies\n",
        "    :return: Modified Median Frequency which uses the amplitude spectrum instead of the power spectrum. It\n",
        "    is the frequency at which the spectrum is divided into two regions with equal amplitude\n",
        "    \"\"\"\n",
        "    amplitude_spectrum = np.sqrt(power_spectrum)\n",
        "    med_freq = np.zeros((amplitude_spectrum.shape[0], amplitude_spectrum.shape[2]))\n",
        "    for indx, segment in enumerate(amplitude_spectrum):\n",
        "        differences = []\n",
        "        for ind in range(frequencies.shape[0]):\n",
        "            diff = np.abs(np.subtract(np.sum(segment[:ind, :], axis=0), 0.5 * np.sum(segment, axis=0)))\n",
        "            differences.append(diff)\n",
        "\n",
        "        differences = np.array(differences)\n",
        "        med_freq[indx, :] = frequencies[differences.argmin(axis=0)]\n",
        "\n",
        "    return med_freq"
      ],
      "metadata": {
        "id": "GGmBKBGtOEuM"
      },
      "id": "GGmBKBGtOEuM",
      "execution_count": null,
      "outputs": []
    },
    {
      "cell_type": "code",
      "execution_count": null,
      "id": "409c31c7",
      "metadata": {
        "id": "409c31c7"
      },
      "outputs": [],
      "source": [
        "supported_features = {\"iemg\": iemg, \"mav\": mav,\n",
        "                      \"mmav1\": mmav1, \"mmav2\": mmav2, \n",
        "                      \"mavslp\": mavslp, \"ssi\": ssi, \n",
        "                      \"rms\": rms, \"wl\": wl, \n",
        "                      \"zc\": zc, \"ssc\": ssc, \n",
        "                      \"wamp\": wamp, \"kurtosis\": kurtosis,\n",
        "                      \"skewness\": skewness, \"var\": variance, \n",
        "                      \"sd\": sd, \"mean\": mean,\n",
        "                      \"mnf\": mnf, \"mdf\": mdf,\n",
        "                      \"mmnf\": mmnf, \"mmdf\": mmdf}"
      ]
    },
    {
      "cell_type": "code",
      "source": [
        "def extract_fd(data,fs, win_len, wind_stride, feature_set):\n",
        "    frequencies, power_spectrum = frequency_domain(data, fs, win_len, wind_stride)\n",
        "\n",
        "    extracted_features = []\n",
        "    for feature in feature_set:\n",
        "        feat_func = supported_features.get(feature.lower(), None)\n",
        "        if feat_func:\n",
        "            ex_feat = feat_func(frequencies, power_spectrum)\n",
        "            extracted_features.append(ex_feat)\n",
        "        else:\n",
        "            print(f\"Feature {feature} not supported yet\")\n",
        "    if len(extracted_features):\n",
        "        extracted_features = np.hstack(extracted_features)\n",
        "    else:\n",
        "        print(\"No features have been extracted\")\n",
        "    return extracted_features"
      ],
      "metadata": {
        "id": "mX31yy5aPocN"
      },
      "id": "mX31yy5aPocN",
      "execution_count": null,
      "outputs": []
    },
    {
      "cell_type": "code",
      "execution_count": null,
      "id": "6cb4e241",
      "metadata": {
        "id": "6cb4e241"
      },
      "outputs": [],
      "source": [
        "from numpy.lib.stride_tricks import sliding_window_view\n",
        "from scipy.signal import butter, sosfilt, sosfreqz, lfilter, iirnotch, filtfilt\n",
        "\n",
        "def load_file(filename):\n",
        "    mat = io.loadmat(filename)\n",
        "    data = pd.DataFrame(mat['emg'])\n",
        "    data['stimulus'] = mat['restimulus']\n",
        "    data['repetition'] = mat['repetition']\n",
        "    data['subject'] = mat['subject'].repeat(data.shape[0], axis=0)\n",
        "    return data\n",
        "\n",
        "def extract_exercise(file_name):\n",
        "    ex_num = int(file_name.split(\".\")[0].split(\"_\")[1][1])\n",
        "    return ex_num\n",
        "\n",
        "def get_data(data_dir, exercises=[1,2,3]):\n",
        "    data = []\n",
        "    for root, dirs, files in os.walk(data_dir):\n",
        "        for f in files:\n",
        "            ex_num = extract_exercise(f)\n",
        "            if(ex_num in exercises):\n",
        "                data.append(load_file(os.path.join(root, f)))\n",
        "    return data\n",
        "\n",
        "def _butter_highpass(cutoff, fs, order=3):\n",
        "    nyq = 0.5 * fs\n",
        "    normal_cutoff = cutoff / nyq\n",
        "    b, a = signal.butter(order, normal_cutoff, btype=\"high\", analog=False)\n",
        "    return b, a\n",
        "\n",
        "def butter_highpass_filter(data, cutoff=2, fs=200, order=3):\n",
        "    b, a = _butter_highpass(cutoff=cutoff, fs=fs, order=order)\n",
        "    y = signal.lfilter(b, a, data)\n",
        "    return y\n",
        "\n",
        "def butter_bandpass(lowcut, highcut, fs, order=5):\n",
        "    nyq = 0.5 * fs\n",
        "    low = lowcut / nyq\n",
        "    high = highcut / nyq\n",
        "    sos = butter(order, [low, high], analog=False, btype='band', output='sos')\n",
        "    return sos\n",
        "\n",
        "def butter_bandpass_filter(data, lowcut=20, highcut=450, fs=1000, order=4):\n",
        "    sos = butter_bandpass(lowcut, highcut, fs, order=order)\n",
        "    y = sosfilt(sos, data)\n",
        "    return y\n",
        "\n",
        "def extract_features(rolled_emg, feature_set):\n",
        "    \"\"\"\n",
        "    Extract features from EMG data after rolling window.\n",
        "    :return: None\n",
        "    \"\"\"\n",
        "    extracted_features = []\n",
        "    for feature in feature_set:\n",
        "        feat_func = supported_features.get(feature.lower(), None)\n",
        "        if feat_func:\n",
        "            ex_feat = feat_func(rolled_emg)\n",
        "            extracted_features.append(ex_feat)\n",
        "        else:\n",
        "            print(f\"Feature {feature} not supported yet\")\n",
        "    if len(extracted_features):\n",
        "        extracted_features = np.hstack(extracted_features)\n",
        "    else:\n",
        "        print(\"No features have been extracted\")\n",
        "    return extracted_features\n",
        "\n",
        "def roll_window_op(data, win_len=50, stride=25):\n",
        "    return sliding_window_view(data, win_len, axis=0)[::stride, :]"
      ]
    },
    {
      "cell_type": "code",
      "source": [
        "from google.colab import drive\n",
        "drive.mount('/content/drive')"
      ],
      "metadata": {
        "id": "dT60E5S28jH-"
      },
      "id": "dT60E5S28jH-",
      "execution_count": null,
      "outputs": []
    },
    {
      "cell_type": "code",
      "execution_count": null,
      "id": "01d55051",
      "metadata": {
        "id": "01d55051"
      },
      "outputs": [],
      "source": [
        "data = get_data('/content/drive/MyDrive/ninapro-db5', [2])"
      ]
    },
    {
      "cell_type": "code",
      "source": [
        "# delete this cell (Hady's experiment)\n",
        "from google.colab import drive\n",
        "drive.mount('/content/drive')\n",
        "data = get_data('/content/drive/MyDrive/ninapro-db5', [2])\n",
        "len(data)"
      ],
      "metadata": {
        "colab": {
          "base_uri": "https://localhost:8080/"
        },
        "id": "8uziw7lXfJ0G",
        "outputId": "f3f122e1-a3cb-462d-a625-2f30d6062e66"
      },
      "id": "8uziw7lXfJ0G",
      "execution_count": null,
      "outputs": [
        {
          "output_type": "stream",
          "name": "stdout",
          "text": [
            "Drive already mounted at /content/drive; to attempt to forcibly remount, call drive.mount(\"/content/drive\", force_remount=True).\n"
          ]
        },
        {
          "output_type": "execute_result",
          "data": {
            "text/plain": [
              "10"
            ]
          },
          "metadata": {},
          "execution_count": 43
        }
      ]
    },
    {
      "cell_type": "code",
      "source": [
        "data_temp = pd.concat(data)"
      ],
      "metadata": {
        "id": "lCU5HIwaI2mx"
      },
      "id": "lCU5HIwaI2mx",
      "execution_count": null,
      "outputs": []
    },
    {
      "cell_type": "code",
      "source": [
        "data_temp"
      ],
      "metadata": {
        "colab": {
          "base_uri": "https://localhost:8080/",
          "height": 423
        },
        "id": "4TgihDoIJj9P",
        "outputId": "d7e20c3b-8441-40ea-c0d4-4270a07a74a9"
      },
      "id": "4TgihDoIJj9P",
      "execution_count": null,
      "outputs": [
        {
          "output_type": "execute_result",
          "data": {
            "text/html": [
              "\n",
              "  <div id=\"df-25d4e291-6a66-471f-883f-86839f730f79\">\n",
              "    <div class=\"colab-df-container\">\n",
              "      <div>\n",
              "<style scoped>\n",
              "    .dataframe tbody tr th:only-of-type {\n",
              "        vertical-align: middle;\n",
              "    }\n",
              "\n",
              "    .dataframe tbody tr th {\n",
              "        vertical-align: top;\n",
              "    }\n",
              "\n",
              "    .dataframe thead th {\n",
              "        text-align: right;\n",
              "    }\n",
              "</style>\n",
              "<table border=\"1\" class=\"dataframe\">\n",
              "  <thead>\n",
              "    <tr style=\"text-align: right;\">\n",
              "      <th></th>\n",
              "      <th>0</th>\n",
              "      <th>1</th>\n",
              "      <th>2</th>\n",
              "      <th>3</th>\n",
              "      <th>4</th>\n",
              "      <th>5</th>\n",
              "      <th>6</th>\n",
              "      <th>7</th>\n",
              "      <th>8</th>\n",
              "      <th>9</th>\n",
              "      <th>10</th>\n",
              "      <th>11</th>\n",
              "      <th>12</th>\n",
              "      <th>13</th>\n",
              "      <th>14</th>\n",
              "      <th>15</th>\n",
              "      <th>stimulus</th>\n",
              "      <th>repetition</th>\n",
              "      <th>subject</th>\n",
              "    </tr>\n",
              "  </thead>\n",
              "  <tbody>\n",
              "    <tr>\n",
              "      <th>0</th>\n",
              "      <td>0.0</td>\n",
              "      <td>-1.0</td>\n",
              "      <td>-1.0</td>\n",
              "      <td>1.0</td>\n",
              "      <td>0.0</td>\n",
              "      <td>-2.0</td>\n",
              "      <td>-2.0</td>\n",
              "      <td>-1.0</td>\n",
              "      <td>0.0</td>\n",
              "      <td>-1.0</td>\n",
              "      <td>0.0</td>\n",
              "      <td>1.0</td>\n",
              "      <td>1.0</td>\n",
              "      <td>0.0</td>\n",
              "      <td>-1.0</td>\n",
              "      <td>0.0</td>\n",
              "      <td>0</td>\n",
              "      <td>0</td>\n",
              "      <td>8</td>\n",
              "    </tr>\n",
              "    <tr>\n",
              "      <th>1</th>\n",
              "      <td>0.0</td>\n",
              "      <td>3.0</td>\n",
              "      <td>1.0</td>\n",
              "      <td>-1.0</td>\n",
              "      <td>0.0</td>\n",
              "      <td>0.0</td>\n",
              "      <td>-1.0</td>\n",
              "      <td>4.0</td>\n",
              "      <td>-4.0</td>\n",
              "      <td>-3.0</td>\n",
              "      <td>-1.0</td>\n",
              "      <td>-1.0</td>\n",
              "      <td>-1.0</td>\n",
              "      <td>-2.0</td>\n",
              "      <td>-1.0</td>\n",
              "      <td>-3.0</td>\n",
              "      <td>0</td>\n",
              "      <td>0</td>\n",
              "      <td>8</td>\n",
              "    </tr>\n",
              "    <tr>\n",
              "      <th>2</th>\n",
              "      <td>1.0</td>\n",
              "      <td>-1.0</td>\n",
              "      <td>1.0</td>\n",
              "      <td>-2.0</td>\n",
              "      <td>-1.0</td>\n",
              "      <td>-1.0</td>\n",
              "      <td>-2.0</td>\n",
              "      <td>-1.0</td>\n",
              "      <td>0.0</td>\n",
              "      <td>-3.0</td>\n",
              "      <td>-3.0</td>\n",
              "      <td>-2.0</td>\n",
              "      <td>-2.0</td>\n",
              "      <td>-2.0</td>\n",
              "      <td>2.0</td>\n",
              "      <td>3.0</td>\n",
              "      <td>0</td>\n",
              "      <td>0</td>\n",
              "      <td>8</td>\n",
              "    </tr>\n",
              "    <tr>\n",
              "      <th>3</th>\n",
              "      <td>-3.0</td>\n",
              "      <td>-2.0</td>\n",
              "      <td>-1.0</td>\n",
              "      <td>-1.0</td>\n",
              "      <td>-1.0</td>\n",
              "      <td>-1.0</td>\n",
              "      <td>-1.0</td>\n",
              "      <td>-1.0</td>\n",
              "      <td>0.0</td>\n",
              "      <td>-1.0</td>\n",
              "      <td>-2.0</td>\n",
              "      <td>-1.0</td>\n",
              "      <td>0.0</td>\n",
              "      <td>-1.0</td>\n",
              "      <td>-1.0</td>\n",
              "      <td>-2.0</td>\n",
              "      <td>0</td>\n",
              "      <td>0</td>\n",
              "      <td>8</td>\n",
              "    </tr>\n",
              "    <tr>\n",
              "      <th>4</th>\n",
              "      <td>-1.0</td>\n",
              "      <td>-1.0</td>\n",
              "      <td>-2.0</td>\n",
              "      <td>0.0</td>\n",
              "      <td>-2.0</td>\n",
              "      <td>-1.0</td>\n",
              "      <td>-2.0</td>\n",
              "      <td>1.0</td>\n",
              "      <td>0.0</td>\n",
              "      <td>-1.0</td>\n",
              "      <td>-3.0</td>\n",
              "      <td>0.0</td>\n",
              "      <td>-3.0</td>\n",
              "      <td>0.0</td>\n",
              "      <td>1.0</td>\n",
              "      <td>3.0</td>\n",
              "      <td>0</td>\n",
              "      <td>0</td>\n",
              "      <td>8</td>\n",
              "    </tr>\n",
              "    <tr>\n",
              "      <th>...</th>\n",
              "      <td>...</td>\n",
              "      <td>...</td>\n",
              "      <td>...</td>\n",
              "      <td>...</td>\n",
              "      <td>...</td>\n",
              "      <td>...</td>\n",
              "      <td>...</td>\n",
              "      <td>...</td>\n",
              "      <td>...</td>\n",
              "      <td>...</td>\n",
              "      <td>...</td>\n",
              "      <td>...</td>\n",
              "      <td>...</td>\n",
              "      <td>...</td>\n",
              "      <td>...</td>\n",
              "      <td>...</td>\n",
              "      <td>...</td>\n",
              "      <td>...</td>\n",
              "      <td>...</td>\n",
              "    </tr>\n",
              "    <tr>\n",
              "      <th>206122</th>\n",
              "      <td>-2.0</td>\n",
              "      <td>0.0</td>\n",
              "      <td>0.0</td>\n",
              "      <td>-2.0</td>\n",
              "      <td>-2.0</td>\n",
              "      <td>-2.0</td>\n",
              "      <td>1.0</td>\n",
              "      <td>2.0</td>\n",
              "      <td>-1.0</td>\n",
              "      <td>1.0</td>\n",
              "      <td>-2.0</td>\n",
              "      <td>-1.0</td>\n",
              "      <td>-1.0</td>\n",
              "      <td>-2.0</td>\n",
              "      <td>-3.0</td>\n",
              "      <td>-5.0</td>\n",
              "      <td>0</td>\n",
              "      <td>6</td>\n",
              "      <td>5</td>\n",
              "    </tr>\n",
              "    <tr>\n",
              "      <th>206123</th>\n",
              "      <td>3.0</td>\n",
              "      <td>2.0</td>\n",
              "      <td>0.0</td>\n",
              "      <td>-1.0</td>\n",
              "      <td>0.0</td>\n",
              "      <td>-3.0</td>\n",
              "      <td>0.0</td>\n",
              "      <td>1.0</td>\n",
              "      <td>-1.0</td>\n",
              "      <td>-3.0</td>\n",
              "      <td>-3.0</td>\n",
              "      <td>-1.0</td>\n",
              "      <td>-1.0</td>\n",
              "      <td>1.0</td>\n",
              "      <td>-4.0</td>\n",
              "      <td>-1.0</td>\n",
              "      <td>0</td>\n",
              "      <td>6</td>\n",
              "      <td>5</td>\n",
              "    </tr>\n",
              "    <tr>\n",
              "      <th>206124</th>\n",
              "      <td>-4.0</td>\n",
              "      <td>-1.0</td>\n",
              "      <td>-2.0</td>\n",
              "      <td>0.0</td>\n",
              "      <td>-1.0</td>\n",
              "      <td>-2.0</td>\n",
              "      <td>-5.0</td>\n",
              "      <td>-9.0</td>\n",
              "      <td>2.0</td>\n",
              "      <td>1.0</td>\n",
              "      <td>-1.0</td>\n",
              "      <td>0.0</td>\n",
              "      <td>0.0</td>\n",
              "      <td>3.0</td>\n",
              "      <td>6.0</td>\n",
              "      <td>6.0</td>\n",
              "      <td>0</td>\n",
              "      <td>6</td>\n",
              "      <td>5</td>\n",
              "    </tr>\n",
              "    <tr>\n",
              "      <th>206125</th>\n",
              "      <td>-4.0</td>\n",
              "      <td>-2.0</td>\n",
              "      <td>-2.0</td>\n",
              "      <td>0.0</td>\n",
              "      <td>-1.0</td>\n",
              "      <td>-2.0</td>\n",
              "      <td>-6.0</td>\n",
              "      <td>-8.0</td>\n",
              "      <td>0.0</td>\n",
              "      <td>-3.0</td>\n",
              "      <td>-3.0</td>\n",
              "      <td>-2.0</td>\n",
              "      <td>-1.0</td>\n",
              "      <td>-1.0</td>\n",
              "      <td>0.0</td>\n",
              "      <td>-1.0</td>\n",
              "      <td>0</td>\n",
              "      <td>6</td>\n",
              "      <td>5</td>\n",
              "    </tr>\n",
              "    <tr>\n",
              "      <th>206126</th>\n",
              "      <td>8.0</td>\n",
              "      <td>0.0</td>\n",
              "      <td>-2.0</td>\n",
              "      <td>0.0</td>\n",
              "      <td>1.0</td>\n",
              "      <td>3.0</td>\n",
              "      <td>8.0</td>\n",
              "      <td>27.0</td>\n",
              "      <td>-1.0</td>\n",
              "      <td>-1.0</td>\n",
              "      <td>0.0</td>\n",
              "      <td>-1.0</td>\n",
              "      <td>0.0</td>\n",
              "      <td>-2.0</td>\n",
              "      <td>-5.0</td>\n",
              "      <td>-2.0</td>\n",
              "      <td>0</td>\n",
              "      <td>6</td>\n",
              "      <td>5</td>\n",
              "    </tr>\n",
              "  </tbody>\n",
              "</table>\n",
              "<p>2023639 rows × 19 columns</p>\n",
              "</div>\n",
              "      <button class=\"colab-df-convert\" onclick=\"convertToInteractive('df-25d4e291-6a66-471f-883f-86839f730f79')\"\n",
              "              title=\"Convert this dataframe to an interactive table.\"\n",
              "              style=\"display:none;\">\n",
              "        \n",
              "  <svg xmlns=\"http://www.w3.org/2000/svg\" height=\"24px\"viewBox=\"0 0 24 24\"\n",
              "       width=\"24px\">\n",
              "    <path d=\"M0 0h24v24H0V0z\" fill=\"none\"/>\n",
              "    <path d=\"M18.56 5.44l.94 2.06.94-2.06 2.06-.94-2.06-.94-.94-2.06-.94 2.06-2.06.94zm-11 1L8.5 8.5l.94-2.06 2.06-.94-2.06-.94L8.5 2.5l-.94 2.06-2.06.94zm10 10l.94 2.06.94-2.06 2.06-.94-2.06-.94-.94-2.06-.94 2.06-2.06.94z\"/><path d=\"M17.41 7.96l-1.37-1.37c-.4-.4-.92-.59-1.43-.59-.52 0-1.04.2-1.43.59L10.3 9.45l-7.72 7.72c-.78.78-.78 2.05 0 2.83L4 21.41c.39.39.9.59 1.41.59.51 0 1.02-.2 1.41-.59l7.78-7.78 2.81-2.81c.8-.78.8-2.07 0-2.86zM5.41 20L4 18.59l7.72-7.72 1.47 1.35L5.41 20z\"/>\n",
              "  </svg>\n",
              "      </button>\n",
              "      \n",
              "  <style>\n",
              "    .colab-df-container {\n",
              "      display:flex;\n",
              "      flex-wrap:wrap;\n",
              "      gap: 12px;\n",
              "    }\n",
              "\n",
              "    .colab-df-convert {\n",
              "      background-color: #E8F0FE;\n",
              "      border: none;\n",
              "      border-radius: 50%;\n",
              "      cursor: pointer;\n",
              "      display: none;\n",
              "      fill: #1967D2;\n",
              "      height: 32px;\n",
              "      padding: 0 0 0 0;\n",
              "      width: 32px;\n",
              "    }\n",
              "\n",
              "    .colab-df-convert:hover {\n",
              "      background-color: #E2EBFA;\n",
              "      box-shadow: 0px 1px 2px rgba(60, 64, 67, 0.3), 0px 1px 3px 1px rgba(60, 64, 67, 0.15);\n",
              "      fill: #174EA6;\n",
              "    }\n",
              "\n",
              "    [theme=dark] .colab-df-convert {\n",
              "      background-color: #3B4455;\n",
              "      fill: #D2E3FC;\n",
              "    }\n",
              "\n",
              "    [theme=dark] .colab-df-convert:hover {\n",
              "      background-color: #434B5C;\n",
              "      box-shadow: 0px 1px 3px 1px rgba(0, 0, 0, 0.15);\n",
              "      filter: drop-shadow(0px 1px 2px rgba(0, 0, 0, 0.3));\n",
              "      fill: #FFFFFF;\n",
              "    }\n",
              "  </style>\n",
              "\n",
              "      <script>\n",
              "        const buttonEl =\n",
              "          document.querySelector('#df-25d4e291-6a66-471f-883f-86839f730f79 button.colab-df-convert');\n",
              "        buttonEl.style.display =\n",
              "          google.colab.kernel.accessAllowed ? 'block' : 'none';\n",
              "\n",
              "        async function convertToInteractive(key) {\n",
              "          const element = document.querySelector('#df-25d4e291-6a66-471f-883f-86839f730f79');\n",
              "          const dataTable =\n",
              "            await google.colab.kernel.invokeFunction('convertToInteractive',\n",
              "                                                     [key], {});\n",
              "          if (!dataTable) return;\n",
              "\n",
              "          const docLinkHtml = 'Like what you see? Visit the ' +\n",
              "            '<a target=\"_blank\" href=https://colab.research.google.com/notebooks/data_table.ipynb>data table notebook</a>'\n",
              "            + ' to learn more about interactive tables.';\n",
              "          element.innerHTML = '';\n",
              "          dataTable['output_type'] = 'display_data';\n",
              "          await google.colab.output.renderOutput(dataTable, element);\n",
              "          const docLink = document.createElement('div');\n",
              "          docLink.innerHTML = docLinkHtml;\n",
              "          element.appendChild(docLink);\n",
              "        }\n",
              "      </script>\n",
              "    </div>\n",
              "  </div>\n",
              "  "
            ],
            "text/plain": [
              "          0    1    2    3    4    5    6     7    8    9   10   11   12   13  \\\n",
              "0       0.0 -1.0 -1.0  1.0  0.0 -2.0 -2.0  -1.0  0.0 -1.0  0.0  1.0  1.0  0.0   \n",
              "1       0.0  3.0  1.0 -1.0  0.0  0.0 -1.0   4.0 -4.0 -3.0 -1.0 -1.0 -1.0 -2.0   \n",
              "2       1.0 -1.0  1.0 -2.0 -1.0 -1.0 -2.0  -1.0  0.0 -3.0 -3.0 -2.0 -2.0 -2.0   \n",
              "3      -3.0 -2.0 -1.0 -1.0 -1.0 -1.0 -1.0  -1.0  0.0 -1.0 -2.0 -1.0  0.0 -1.0   \n",
              "4      -1.0 -1.0 -2.0  0.0 -2.0 -1.0 -2.0   1.0  0.0 -1.0 -3.0  0.0 -3.0  0.0   \n",
              "...     ...  ...  ...  ...  ...  ...  ...   ...  ...  ...  ...  ...  ...  ...   \n",
              "206122 -2.0  0.0  0.0 -2.0 -2.0 -2.0  1.0   2.0 -1.0  1.0 -2.0 -1.0 -1.0 -2.0   \n",
              "206123  3.0  2.0  0.0 -1.0  0.0 -3.0  0.0   1.0 -1.0 -3.0 -3.0 -1.0 -1.0  1.0   \n",
              "206124 -4.0 -1.0 -2.0  0.0 -1.0 -2.0 -5.0  -9.0  2.0  1.0 -1.0  0.0  0.0  3.0   \n",
              "206125 -4.0 -2.0 -2.0  0.0 -1.0 -2.0 -6.0  -8.0  0.0 -3.0 -3.0 -2.0 -1.0 -1.0   \n",
              "206126  8.0  0.0 -2.0  0.0  1.0  3.0  8.0  27.0 -1.0 -1.0  0.0 -1.0  0.0 -2.0   \n",
              "\n",
              "         14   15  stimulus  repetition  subject  \n",
              "0      -1.0  0.0         0           0        8  \n",
              "1      -1.0 -3.0         0           0        8  \n",
              "2       2.0  3.0         0           0        8  \n",
              "3      -1.0 -2.0         0           0        8  \n",
              "4       1.0  3.0         0           0        8  \n",
              "...     ...  ...       ...         ...      ...  \n",
              "206122 -3.0 -5.0         0           6        5  \n",
              "206123 -4.0 -1.0         0           6        5  \n",
              "206124  6.0  6.0         0           6        5  \n",
              "206125  0.0 -1.0         0           6        5  \n",
              "206126 -5.0 -2.0         0           6        5  \n",
              "\n",
              "[2023639 rows x 19 columns]"
            ]
          },
          "metadata": {},
          "execution_count": 45
        }
      ]
    },
    {
      "cell_type": "code",
      "source": [
        "data_temp[(data_temp.stimulus == 0) & (data_temp.repetition == 2) & (data_temp.subject == 1)][0]"
      ],
      "metadata": {
        "colab": {
          "base_uri": "https://localhost:8080/"
        },
        "id": "3BCAiY2LJAK3",
        "outputId": "34870280-14b4-4625-ff9c-58eefc9e1ae7"
      },
      "id": "3BCAiY2LJAK3",
      "execution_count": null,
      "outputs": [
        {
          "output_type": "execute_result",
          "data": {
            "text/plain": [
              "3447     -5.0\n",
              "3448      6.0\n",
              "3449     -8.0\n",
              "3450      2.0\n",
              "3451     -5.0\n",
              "         ... \n",
              "172615   -2.0\n",
              "172616   -4.0\n",
              "172617    4.0\n",
              "172618   -1.0\n",
              "172619   -3.0\n",
              "Name: 0, Length: 6762, dtype: float32"
            ]
          },
          "metadata": {},
          "execution_count": 78
        }
      ]
    },
    {
      "cell_type": "code",
      "source": [
        "gesture_mapping = {\n",
        "    0: \"Rest\",\n",
        "    1: \"Thumbs Up\",\n",
        "    # 2: \"Extension of index and middle, flexion of the others\",\n",
        "    # 3: \"Flexion of ring and little finger, extension of the others\",\n",
        "    # 4: \"Thumb opposing base of little finger\",\n",
        "    # 5: \"Abduction of all fingers\",\n",
        "    6: \"Hand Closed\",   #\"Fingers flexed together in fist\",\n",
        "    7: \"Pointing Index\",\n",
        "    8: \"Hand Opened\",   #\"Adduction of Extended Fingers\",\n",
        "    # 9: \"Wrist Suppination (axis: middle finger)\",\n",
        "    # 10: \"Wrist Pronation (axis: middle finger)\",\n",
        "    # 11: \"Wrist Suppination (axis: little finger)\",\n",
        "    # 12: \"Wrist Pronation (axis: little finger)\",\n",
        "    13: \"Wrist Flexion\",\n",
        "    14: \"Wrist Extension\",\n",
        "    # 15: \"Wrist Radial Deviation (right)\",\n",
        "    # 16: \"Wrist Radial Deviation (left)\",\n",
        "    # 17: \"Wrist Extension with Closed Hands\"  \n",
        "}"
      ],
      "metadata": {
        "id": "LxNpfoq2b8Z9"
      },
      "id": "LxNpfoq2b8Z9",
      "execution_count": null,
      "outputs": []
    },
    {
      "cell_type": "code",
      "execution_count": null,
      "id": "f3147597",
      "metadata": {
        "id": "f3147597",
        "colab": {
          "base_uri": "https://localhost:8080/"
        },
        "outputId": "a5515aaa-3745-44f1-9b14-b768057b3cfb"
      },
      "outputs": [
        {
          "output_type": "stream",
          "name": "stderr",
          "text": [
            "/usr/local/lib/python3.7/dist-packages/ipykernel_launcher.py:16: FutureWarning: arrays to stack must be passed as a \"sequence\" type such as list or tuple. Support for non-sequence iterables such as generators is deprecated as of NumPy 1.16 and will raise an error in the future.\n",
            "  app.launch_new_instance()\n"
          ]
        }
      ],
      "source": [
        "n_channels = 16\n",
        "win_size = 60\n",
        "rolled_emg = np.empty((0, win_size, n_channels))\n",
        "rolled_labels = np.empty((0, 1))\n",
        "rolled_trials = np.empty((0, 1))\n",
        "for i in range(len(data)):\n",
        "    all_rolled_trials = roll_window_op(data[i].iloc[:, -2], win_len=win_size, stride=20)\n",
        "    # Single dataframe contains many trials, so when windowing we want\n",
        "    # to make sure that there is only one unique trial in the window\n",
        "    single_trial_idxs = [i for i in range(all_rolled_trials.shape[0]) \\\n",
        "                        if np.unique(all_rolled_trials[i]).shape[0] == 1]\n",
        "\n",
        "    trial_rolled_trials = all_rolled_trials[single_trial_idxs][:, 0]\n",
        "    trial_rolled_trials = np.reshape(trial_rolled_trials, (-1, 1))\n",
        "    \n",
        "    trial_rolled_emg = np.dstack(roll_window_op(data[i].iloc[:, j], win_len=win_size, stride=20)\n",
        "                                  for j in range(n_channels))\n",
        "    trial_rolled_emg = trial_rolled_emg[single_trial_idxs]\n",
        "\n",
        "    trial_rolled_labels = roll_window_op(data[i].iloc[:, -3], win_len=win_size, stride=20)[:, 0]\n",
        "    trial_rolled_labels = trial_rolled_labels[single_trial_idxs]\n",
        "    trial_rolled_labels = np.reshape(trial_rolled_labels, (-1, 1))\n",
        "\n",
        "\n",
        "    rolled_emg = np.vstack([rolled_emg, trial_rolled_emg])\n",
        "    rolled_labels = np.vstack([rolled_labels, trial_rolled_labels])\n",
        "    rolled_trials = np.vstack([rolled_trials, trial_rolled_trials])"
      ]
    },
    {
      "cell_type": "code",
      "execution_count": null,
      "id": "7d74f1fe",
      "metadata": {
        "colab": {
          "base_uri": "https://localhost:8080/"
        },
        "id": "7d74f1fe",
        "outputId": "8eb49780-589d-40c1-de56-9aafd2bbe640"
      },
      "outputs": [
        {
          "output_type": "stream",
          "name": "stdout",
          "text": [
            "After rolling: emg: (95170, 60, 16) labels: (95170, 1) trials: (95170, 1)\n"
          ]
        }
      ],
      "source": [
        "print(f\"After rolling: emg: {rolled_emg.shape} labels: {rolled_labels.shape} trials: {rolled_trials.shape}\")"
      ]
    },
    {
      "cell_type": "code",
      "source": [
        "labels = rolled_labels[np.isin(rolled_labels, list(gesture_mapping.keys()))]"
      ],
      "metadata": {
        "id": "3gKovywqqVEE"
      },
      "id": "3gKovywqqVEE",
      "execution_count": null,
      "outputs": []
    },
    {
      "cell_type": "code",
      "source": [
        "import seaborn as sns\n",
        "sns.set(rc={'figure.figsize':(11.7,8.27)})\n",
        "\n",
        "unique, counts = np.unique(labels, return_counts=True)\n",
        "gestures = list(gesture_mapping.values())\n",
        "class_freq = sns.barplot(gestures, counts, palette=\"Blues_d\")\n",
        "class_freq.set(title='Class Frequencies')\n",
        "class_freq.set(xlabel = \"Classes\", ylabel = \"Frequencies\")"
      ],
      "metadata": {
        "colab": {
          "base_uri": "https://localhost:8080/",
          "height": 605
        },
        "id": "KRobGNLYaftG",
        "outputId": "3885350c-205e-4536-ae46-aff52674b16e"
      },
      "id": "KRobGNLYaftG",
      "execution_count": null,
      "outputs": [
        {
          "output_type": "stream",
          "name": "stderr",
          "text": [
            "/usr/local/lib/python3.7/dist-packages/seaborn/_decorators.py:43: FutureWarning: Pass the following variables as keyword args: x, y. From version 0.12, the only valid positional argument will be `data`, and passing other arguments without an explicit keyword will result in an error or misinterpretation.\n",
            "  FutureWarning\n"
          ]
        },
        {
          "output_type": "execute_result",
          "data": {
            "text/plain": [
              "[Text(0, 0.5, 'Frequencies'), Text(0.5, 0, 'Classes')]"
            ]
          },
          "metadata": {},
          "execution_count": 18
        },
        {
          "output_type": "display_data",
          "data": {
            "image/png": "[encoded data removed]",
            "text/plain": [
              "<Figure size 842.4x595.44 with 1 Axes>"
            ]
          },
          "metadata": {}
        }
      ]
    },
    {
      "cell_type": "code",
      "execution_count": null,
      "id": "42a883c1",
      "metadata": {
        "id": "42a883c1"
      },
      "outputs": [],
      "source": [
        "hudgins_features = ['mav', 'ssc', 'zc', 'WL']\n",
        "du_features = [\"iEMG\", \"VAR\", \"WL\", \"ZC\", \"SSC\", \"WAMP\"]\n",
        "td_features = [\"rms\", \"mav\", \"mavslp\", \"zc\", \"ssc\", \"wl\"]\n",
        "fd_features = [\"mnf\", \"mdf\", \"mmnf\", \"mmdf\"]"
      ]
    },
    {
      "cell_type": "code",
      "execution_count": null,
      "id": "6e3ec832",
      "metadata": {
        "colab": {
          "base_uri": "https://localhost:8080/"
        },
        "id": "6e3ec832",
        "outputId": "cd9aeb75-6378-41d5-d4fd-c326ae51764e"
      },
      "outputs": [
        {
          "output_type": "stream",
          "name": "stdout",
          "text": [
            "X_train shape: (39043, 60, 16) y_train shape: (39043,)\n",
            "X_test shape: (19505, 60, 16) y_test shape: (19505,)\n"
          ]
        }
      ],
      "source": [
        "train_rows = np.isin(rolled_trials, [1,3,4,6]).ravel()\n",
        "test_rows = np.isin(rolled_trials, [2, 5]).ravel()\n",
        "\n",
        "\n",
        "train_emg = rolled_emg[train_rows]\n",
        "y_train = rolled_labels[train_rows].ravel()\n",
        "\n",
        "test_emg = rolled_emg[test_rows]\n",
        "y_test = rolled_labels[test_rows].ravel()\n",
        "\n",
        "print(f\"X_train shape: {train_emg.shape} y_train shape: {y_train.shape}\")\n",
        "print(f\"X_test shape: {test_emg.shape} y_test shape: {y_test.shape}\")"
      ]
    },
    {
      "cell_type": "code",
      "execution_count": null,
      "id": "8c1ea2b5",
      "metadata": {
        "id": "8c1ea2b5",
        "colab": {
          "base_uri": "https://localhost:8080/"
        },
        "outputId": "7f148234-11bd-4327-c779-93f19bd1eee2"
      },
      "outputs": [
        {
          "output_type": "stream",
          "name": "stdout",
          "text": [
            "X_train shape: (23042, 60, 16) y_train shape: (23042,)\n",
            "X_test shape: (11488, 60, 16) y_test shape: (11488,)\n"
          ]
        }
      ],
      "source": [
        "sub_labels = [0, 1, 6, 7, 8, 13, 14]\n",
        "\n",
        "train_sub_labels = np.isin(y_train, sub_labels).ravel()\n",
        "test_sub_labels = np.isin(y_test, sub_labels).ravel()\n",
        "\n",
        "train_emg_sub_labels = train_emg[train_sub_labels]\n",
        "y_train_sub_labels = y_train[train_sub_labels]\n",
        "\n",
        "test_emg_sub_labels = test_emg[test_sub_labels]\n",
        "y_test_sub_labels = y_test[test_sub_labels]\n",
        "\n",
        "print(f\"X_train shape: {train_emg_sub_labels.shape} y_train shape: {y_train_sub_labels.shape}\")\n",
        "print(f\"X_test shape: {test_emg_sub_labels.shape} y_test shape: {y_test_sub_labels.shape}\")"
      ]
    },
    {
      "cell_type": "code",
      "execution_count": null,
      "id": "981f0a88",
      "metadata": {
        "id": "981f0a88"
      },
      "outputs": [],
      "source": [
        "y_train_sub_labels[(y_train_sub_labels == 6)] = 2\n",
        "y_train_sub_labels[(y_train_sub_labels == 7)] = 3\n",
        "y_train_sub_labels[(y_train_sub_labels == 8)] = 4\n",
        "y_train_sub_labels[(y_train_sub_labels == 13)] = 5\n",
        "y_train_sub_labels[(y_train_sub_labels == 14)] = 6\n",
        "\n",
        "\n",
        "y_test_sub_labels[(y_test_sub_labels == 6)] = 2\n",
        "y_test_sub_labels[(y_test_sub_labels == 7)] = 3\n",
        "y_test_sub_labels[(y_test_sub_labels == 8)] = 4\n",
        "y_test_sub_labels[(y_test_sub_labels == 13)] = 5\n",
        "y_test_sub_labels[(y_test_sub_labels == 14)] = 6"
      ]
    },
    {
      "cell_type": "code",
      "source": [
        "np.unique(y_test_sub_labels)"
      ],
      "metadata": {
        "colab": {
          "base_uri": "https://localhost:8080/"
        },
        "id": "rZ-Q8eMLBdyt",
        "outputId": "9df477d4-270b-4fc4-b926-b4eba48a4366"
      },
      "id": "rZ-Q8eMLBdyt",
      "execution_count": null,
      "outputs": [
        {
          "output_type": "execute_result",
          "data": {
            "text/plain": [
              "array([0., 1., 2., 3., 4., 5., 6.])"
            ]
          },
          "metadata": {},
          "execution_count": 55
        }
      ]
    },
    {
      "cell_type": "code",
      "source": [
        "# raw_emg = pd.concat(data)"
      ],
      "metadata": {
        "id": "Vphov4k_zpD5"
      },
      "id": "Vphov4k_zpD5",
      "execution_count": null,
      "outputs": []
    },
    {
      "cell_type": "code",
      "source": [
        "# raw_train_emg = raw_emg[raw_emg.repetition.isin([1,3,4,6])]\n",
        "# raw_test_emg = raw_emg[raw_emg.repetition.isin([2,5])]"
      ],
      "metadata": {
        "id": "Suoa7k8JxR13"
      },
      "id": "Suoa7k8JxR13",
      "execution_count": null,
      "outputs": []
    },
    {
      "cell_type": "code",
      "source": [
        "# train_emg_sub_labels =  raw_train_emg[raw_train_emg.stimulus.isin(sub_labels)]\n",
        "# test_emg_sub_labels = raw_test_emg[raw_test_emg.stimulus.isin(sub_labels)]\n",
        "\n",
        "# train_emg_sub_labels = train_emg_sub_labels.drop([\"stimulus\", \"repetition\", \"subject\"], 1)\n",
        "# test_emg_sub_labels = test_emg_sub_labels.drop([\"stimulus\", \"repetition\", \"subject\"], 1)"
      ],
      "metadata": {
        "id": "6x7F43t11AkM"
      },
      "id": "6x7F43t11AkM",
      "execution_count": null,
      "outputs": []
    },
    {
      "cell_type": "code",
      "execution_count": null,
      "id": "b3497c35",
      "metadata": {
        "id": "b3497c35"
      },
      "outputs": [],
      "source": [
        "# X_train = extract_fd(train_emg_sub_labels, 200, 60, 10, fd_features)\n",
        "# X_test = extract_fd(test_emg_sub_labels, 200, 60, 10, fd_features)\n",
        "\n",
        "X_train = extract_features(train_emg_sub_labels,td_features)\n",
        "X_test = extract_features(test_emg_sub_labels, td_features)"
      ]
    },
    {
      "cell_type": "code",
      "source": [
        "from sklearn.preprocessing import StandardScaler\n",
        "\n",
        "scaler = StandardScaler()\n",
        "X_train_scaled = scaler.fit_transform(X_train)\n",
        "X_test_scaled = scaler.transform(X_test)"
      ],
      "metadata": {
        "id": "HS6Ud3-Mafie"
      },
      "id": "HS6Ud3-Mafie",
      "execution_count": null,
      "outputs": []
    },
    {
      "cell_type": "code",
      "source": [
        "from sklearn.ensemble import RandomForestClassifier\n",
        "from sklearn.metrics import accuracy_score, balanced_accuracy_score\n",
        "\n",
        "rf = RandomForestClassifier(class_weight='balanced', random_state=0)\n",
        "\n",
        "rf.fit(X_train_scaled, y_train_sub_labels)\n",
        "test_preds = rf.predict(X_test_scaled)\n",
        "# acc = accuracy_score(y_test_sub_labels, test_preds)\n",
        "# balanced_acc = balanced_accuracy_score(y_test_sub_labels, test_preds)\n",
        "# print(\"acc\", acc)\n",
        "# print(\"balanced_acc\", balanced_acc)"
      ],
      "metadata": {
        "id": "e2w8ngrrJHGF"
      },
      "id": "e2w8ngrrJHGF",
      "execution_count": null,
      "outputs": []
    },
    {
      "cell_type": "code",
      "source": [
        "from sklearn.metrics import classification_report\n",
        "from sklearn.metrics import confusion_matrix, ConfusionMatrixDisplay\n",
        "\n",
        "print(classification_report(y_test_sub_labels, test_preds, target_names=list(gesture_mapping.values())))\n",
        "cm = confusion_matrix(y_test_sub_labels, test_preds)\n",
        "disp = ConfusionMatrixDisplay(confusion_matrix=cm)\n",
        "fig, ax = plt.subplots(1,1,figsize=(20,20))\n",
        "disp.plot(ax=ax)\n",
        "plt.show()"
      ],
      "metadata": {
        "colab": {
          "base_uri": "https://localhost:8080/",
          "height": 1000
        },
        "id": "KIyP4wMrJu8s",
        "outputId": "26eec04e-cf35-4525-999c-08e69b7449b2"
      },
      "id": "KIyP4wMrJu8s",
      "execution_count": null,
      "outputs": [
        {
          "output_type": "stream",
          "name": "stdout",
          "text": [
            "                 precision    recall  f1-score   support\n",
            "\n",
            "           Rest       0.91      0.99      0.95      7229\n",
            "      Thumbs Up       0.91      0.82      0.86       799\n",
            "    Hand Closed       0.89      0.81      0.85       656\n",
            " Pointing Index       0.82      0.68      0.75       733\n",
            "    Hand Opened       0.79      0.59      0.68       675\n",
            "  Wrist Flexion       0.84      0.71      0.77       745\n",
            "Wrist Extension       0.83      0.72      0.77       651\n",
            "\n",
            "       accuracy                           0.89     11488\n",
            "      macro avg       0.86      0.76      0.80     11488\n",
            "   weighted avg       0.89      0.89      0.89     11488\n",
            "\n"
          ]
        },
        {
          "output_type": "display_data",
          "data": {
            "image/png": "[encoded data removed]",
            "text/plain": [
              "<Figure size 1440x1440 with 2 Axes>"
            ]
          },
          "metadata": {}
        }
      ]
    },
    {
      "cell_type": "code",
      "source": [
        "import pickle\n",
        "\n",
        "file = open('rf_model', 'wb')\n",
        "pickle.dump(rf, file)\n",
        "file.close()"
      ],
      "metadata": {
        "id": "swd9JJYx-H5L"
      },
      "id": "swd9JJYx-H5L",
      "execution_count": null,
      "outputs": []
    },
    {
      "cell_type": "code",
      "source": [
        "from sklearn.svm import SVC\n",
        "\n",
        "svm = SVC(kernel='rbf', class_weight='balanced', random_state=0)\n",
        "\n",
        "svm.fit(X_train_scaled, y_train_sub_labels)\n",
        "test_preds = svm.predict(X_test_scaled)\n",
        "# acc = accuracy_score(y_test_sub_labels, test_preds)\n",
        "# balanced_acc = balanced_accuracy_score(y_test_sub_labels, test_preds)\n",
        "# print(\"acc\", acc)\n",
        "# print(\"balanced_acc\", balanced_acc)"
      ],
      "metadata": {
        "id": "VfTciDguLUtc"
      },
      "id": "VfTciDguLUtc",
      "execution_count": null,
      "outputs": []
    },
    {
      "cell_type": "code",
      "source": [
        "print(classification_report(y_test_sub_labels, test_preds, target_names=list(gesture_mapping.values())))\n",
        "cm = confusion_matrix(y_test_sub_labels, test_preds)\n",
        "disp = ConfusionMatrixDisplay(confusion_matrix=cm)\n",
        "fig, ax = plt.subplots(1,1,figsize=(20,20))\n",
        "disp.plot(ax=ax)\n",
        "plt.show()"
      ],
      "metadata": {
        "colab": {
          "base_uri": "https://localhost:8080/",
          "height": 1000
        },
        "id": "gfOtsWk2LUfQ",
        "outputId": "d57387a6-3d71-4fc8-875c-eb676babafb1"
      },
      "id": "gfOtsWk2LUfQ",
      "execution_count": null,
      "outputs": [
        {
          "output_type": "stream",
          "name": "stdout",
          "text": [
            "                 precision    recall  f1-score   support\n",
            "\n",
            "           Rest       0.96      0.89      0.93      7229\n",
            "      Thumbs Up       0.67      0.88      0.76       799\n",
            "    Hand Closed       0.86      0.86      0.86       656\n",
            " Pointing Index       0.71      0.81      0.76       733\n",
            "    Hand Opened       0.61      0.68      0.64       675\n",
            "  Wrist Flexion       0.73      0.74      0.74       745\n",
            "Wrist Extension       0.69      0.80      0.74       651\n",
            "\n",
            "       accuracy                           0.86     11488\n",
            "      macro avg       0.75      0.81      0.77     11488\n",
            "   weighted avg       0.87      0.86      0.86     11488\n",
            "\n"
          ]
        },
        {
          "output_type": "display_data",
          "data": {
            "image/png": "[encoded data removed]",
            "text/plain": [
              "<Figure size 1440x1440 with 2 Axes>"
            ]
          },
          "metadata": {}
        }
      ]
    },
    {
      "cell_type": "code",
      "source": [
        "file = open('svm_model', 'wb')\n",
        "pickle.dump(rf, file)\n",
        "file.close()"
      ],
      "metadata": {
        "id": "dSQPJycH-kJW"
      },
      "id": "dSQPJycH-kJW",
      "execution_count": null,
      "outputs": []
    },
    {
      "cell_type": "code",
      "source": [
        "from sklearn.linear_model import LogisticRegression\n",
        "\n",
        "lr = LogisticRegression(class_weight='balanced', max_iter=1000, random_state=0)\n",
        "lr.fit(X_train_scaled, y_train_sub_labels)\n",
        "test_preds = lr.predict(X_test_scaled)\n",
        "# acc = accuracy_score(y_test_sub_labels, test_preds)\n",
        "# balanced_acc = balanced_accuracy_score(y_test_sub_labels, test_preds)\n",
        "# print(\"acc\", acc)\n",
        "# print(\"balanced_acc\", balanced_acc)"
      ],
      "metadata": {
        "id": "Gnm_53-fMGJb"
      },
      "id": "Gnm_53-fMGJb",
      "execution_count": null,
      "outputs": []
    },
    {
      "cell_type": "code",
      "source": [
        "print(classification_report(y_test_sub_labels, test_preds, target_names=list(gesture_mapping.values())))\n",
        "cm = confusion_matrix(y_test_sub_labels, test_preds)\n",
        "disp = ConfusionMatrixDisplay(confusion_matrix=cm)\n",
        "fig, ax = plt.subplots(1,1,figsize=(20,20))\n",
        "disp.plot(ax=ax)\n",
        "plt.show()"
      ],
      "metadata": {
        "colab": {
          "base_uri": "https://localhost:8080/",
          "height": 1000
        },
        "id": "NsI3SBF8Ma4W",
        "outputId": "e6aeeaa8-859c-4644-d969-2c4e9440416c"
      },
      "id": "NsI3SBF8Ma4W",
      "execution_count": null,
      "outputs": [
        {
          "output_type": "stream",
          "name": "stdout",
          "text": [
            "                 precision    recall  f1-score   support\n",
            "\n",
            "           Rest       0.96      0.87      0.91      7229\n",
            "      Thumbs Up       0.56      0.74      0.63       799\n",
            "    Hand Closed       0.73      0.69      0.71       656\n",
            " Pointing Index       0.44      0.59      0.50       733\n",
            "    Hand Opened       0.40      0.45      0.43       675\n",
            "  Wrist Flexion       0.56      0.57      0.57       745\n",
            "Wrist Extension       0.53      0.63      0.57       651\n",
            "\n",
            "       accuracy                           0.77     11488\n",
            "      macro avg       0.60      0.65      0.62     11488\n",
            "   weighted avg       0.80      0.77      0.78     11488\n",
            "\n"
          ]
        },
        {
          "output_type": "display_data",
          "data": {
            "image/png": "[encoded data removed]",
            "text/plain": [
              "<Figure size 1440x1440 with 2 Axes>"
            ]
          },
          "metadata": {}
        }
      ]
    },
    {
      "cell_type": "code",
      "source": [
        "file = open('lr_model', 'wb')\n",
        "pickle.dump(rf, file)\n",
        "file.close()"
      ],
      "metadata": {
        "id": "gDutB9di-o3g"
      },
      "id": "gDutB9di-o3g",
      "execution_count": null,
      "outputs": []
    },
    {
      "cell_type": "code",
      "source": [
        ""
      ],
      "metadata": {
        "id": "MmHEtUQuXvWC"
      },
      "id": "MmHEtUQuXvWC",
      "execution_count": null,
      "outputs": []
    },
    {
      "cell_type": "code",
      "source": [
        ""
      ],
      "metadata": {
        "id": "onL0K1xvXveY"
      },
      "id": "onL0K1xvXveY",
      "execution_count": null,
      "outputs": []
    },
    {
      "cell_type": "code",
      "execution_count": null,
      "id": "5ad2f08b",
      "metadata": {
        "id": "5ad2f08b"
      },
      "outputs": [],
      "source": [
        "from keras.callbacks import LearningRateScheduler\n",
        "def decay_schedule(epoch, lr):\n",
        "    # decay by 0.00001 every 5 epochs; use `% 1` to decay after each epoch\n",
        "    if (epoch % 1 == 0) and (epoch != 0):\n",
        "        lr = lr * 0.00001\n",
        "    return lr\n",
        "\n",
        "lr_scheduler = LearningRateScheduler(decay_schedule)"
      ]
    },
    {
      "cell_type": "code",
      "execution_count": null,
      "id": "d77c580e",
      "metadata": {
        "id": "d77c580e"
      },
      "outputs": [],
      "source": [
        "from keras import callbacks\n",
        "from keras import Sequential, layers, initializers, optimizers, losses\n",
        "from tensorflow import keras\n",
        "\n",
        "model = Sequential()\n",
        "model.add(layers.Dense(512, kernel_initializer=initializers.HeNormal(), activation=\"relu\"))\n",
        "model.add(layers.BatchNormalization())\n",
        "model.add(layers.Dropout(0.2))\n",
        "model.add(layers.Dense(256, kernel_initializer=initializers.HeNormal(), activation=\"relu\"))\n",
        "model.add(layers.BatchNormalization())\n",
        "model.add(layers.Dropout(0.2))\n",
        "model.add(layers.Dense(256, kernel_initializer=initializers.HeNormal(), activation=\"relu\"))\n",
        "model.add(layers.BatchNormalization())\n",
        "model.add(layers.Dropout(0.2))\n",
        "model.add(layers.Dense(7, activation=\"softmax\"))\n",
        "\n",
        "model.compile(optimizer=keras.optimizers.Adam(learning_rate=0.0001), loss=keras.losses.SparseCategoricalCrossentropy(), metrics=[\"accuracy\"])\n",
        "# model.summary()"
      ]
    },
    {
      "cell_type": "code",
      "execution_count": null,
      "id": "2f3e27ec",
      "metadata": {
        "colab": {
          "base_uri": "https://localhost:8080/"
        },
        "id": "2f3e27ec",
        "outputId": "6da964ee-d49d-4dad-9d20-70cf30f77320"
      },
      "outputs": [
        {
          "output_type": "stream",
          "name": "stdout",
          "text": [
            "Epoch 1/30\n",
            "721/721 [==============================] - 8s 9ms/step - loss: 1.0438 - accuracy: 0.6907 - val_loss: 0.5911 - val_accuracy: 0.8102\n",
            "Epoch 2/30\n",
            "721/721 [==============================] - 6s 9ms/step - loss: 0.7162 - accuracy: 0.7765 - val_loss: 0.5009 - val_accuracy: 0.8375\n",
            "Epoch 3/30\n",
            "721/721 [==============================] - 6s 8ms/step - loss: 0.6247 - accuracy: 0.8025 - val_loss: 0.4578 - val_accuracy: 0.8511\n",
            "Epoch 4/30\n",
            "721/721 [==============================] - 7s 9ms/step - loss: 0.5691 - accuracy: 0.8155 - val_loss: 0.4242 - val_accuracy: 0.8629\n",
            "Epoch 5/30\n",
            "721/721 [==============================] - 6s 8ms/step - loss: 0.5207 - accuracy: 0.8299 - val_loss: 0.4055 - val_accuracy: 0.8666\n",
            "Epoch 6/30\n",
            "721/721 [==============================] - 6s 9ms/step - loss: 0.4899 - accuracy: 0.8368 - val_loss: 0.3860 - val_accuracy: 0.8724\n",
            "Epoch 7/30\n",
            "721/721 [==============================] - 6s 9ms/step - loss: 0.4608 - accuracy: 0.8468 - val_loss: 0.3749 - val_accuracy: 0.8762\n",
            "Epoch 8/30\n",
            "721/721 [==============================] - 6s 8ms/step - loss: 0.4425 - accuracy: 0.8541 - val_loss: 0.3607 - val_accuracy: 0.8814\n",
            "Epoch 9/30\n",
            "721/721 [==============================] - 6s 8ms/step - loss: 0.4284 - accuracy: 0.8577 - val_loss: 0.3542 - val_accuracy: 0.8825\n",
            "Epoch 10/30\n",
            "721/721 [==============================] - 6s 8ms/step - loss: 0.3993 - accuracy: 0.8659 - val_loss: 0.3432 - val_accuracy: 0.8851\n",
            "Epoch 11/30\n",
            "721/721 [==============================] - 6s 8ms/step - loss: 0.3895 - accuracy: 0.8698 - val_loss: 0.3389 - val_accuracy: 0.8834\n",
            "Epoch 12/30\n",
            "721/721 [==============================] - 6s 9ms/step - loss: 0.3757 - accuracy: 0.8751 - val_loss: 0.3331 - val_accuracy: 0.8868\n",
            "Epoch 13/30\n",
            "721/721 [==============================] - 6s 8ms/step - loss: 0.3602 - accuracy: 0.8786 - val_loss: 0.3241 - val_accuracy: 0.8908\n",
            "Epoch 14/30\n",
            "721/721 [==============================] - 6s 8ms/step - loss: 0.3548 - accuracy: 0.8805 - val_loss: 0.3217 - val_accuracy: 0.8910\n",
            "Epoch 15/30\n",
            "721/721 [==============================] - 6s 9ms/step - loss: 0.3462 - accuracy: 0.8839 - val_loss: 0.3190 - val_accuracy: 0.8917\n",
            "Epoch 16/30\n",
            "721/721 [==============================] - 6s 9ms/step - loss: 0.3255 - accuracy: 0.8917 - val_loss: 0.3146 - val_accuracy: 0.8926\n",
            "Epoch 17/30\n",
            "721/721 [==============================] - 6s 9ms/step - loss: 0.3169 - accuracy: 0.8941 - val_loss: 0.3061 - val_accuracy: 0.8975\n",
            "Epoch 18/30\n",
            "721/721 [==============================] - 7s 9ms/step - loss: 0.3160 - accuracy: 0.8938 - val_loss: 0.3097 - val_accuracy: 0.8950\n",
            "Epoch 19/30\n",
            "721/721 [==============================] - 6s 8ms/step - loss: 0.2981 - accuracy: 0.8968 - val_loss: 0.3013 - val_accuracy: 0.9008\n",
            "Epoch 20/30\n",
            "721/721 [==============================] - 7s 9ms/step - loss: 0.3003 - accuracy: 0.8974 - val_loss: 0.3013 - val_accuracy: 0.9002\n",
            "Epoch 21/30\n",
            "721/721 [==============================] - 5s 7ms/step - loss: 0.2949 - accuracy: 0.8988 - val_loss: 0.2975 - val_accuracy: 0.9011\n",
            "Epoch 22/30\n",
            "721/721 [==============================] - 5s 7ms/step - loss: 0.2820 - accuracy: 0.9044 - val_loss: 0.2922 - val_accuracy: 0.9015\n",
            "Epoch 23/30\n",
            "721/721 [==============================] - 6s 8ms/step - loss: 0.2693 - accuracy: 0.9076 - val_loss: 0.2870 - val_accuracy: 0.9039\n",
            "Epoch 24/30\n",
            "721/721 [==============================] - 6s 8ms/step - loss: 0.2674 - accuracy: 0.9083 - val_loss: 0.2896 - val_accuracy: 0.9040\n",
            "Epoch 25/30\n",
            "721/721 [==============================] - 6s 8ms/step - loss: 0.2628 - accuracy: 0.9106 - val_loss: 0.2908 - val_accuracy: 0.9033\n",
            "Epoch 26/30\n",
            "721/721 [==============================] - 6s 8ms/step - loss: 0.2543 - accuracy: 0.9126 - val_loss: 0.2860 - val_accuracy: 0.9039\n",
            "Epoch 27/30\n",
            "721/721 [==============================] - 6s 8ms/step - loss: 0.2601 - accuracy: 0.9105 - val_loss: 0.2842 - val_accuracy: 0.9034\n",
            "Epoch 28/30\n",
            "721/721 [==============================] - 6s 8ms/step - loss: 0.2484 - accuracy: 0.9149 - val_loss: 0.2850 - val_accuracy: 0.9049\n",
            "Epoch 29/30\n",
            "721/721 [==============================] - 6s 8ms/step - loss: 0.2363 - accuracy: 0.9209 - val_loss: 0.2853 - val_accuracy: 0.9059\n",
            "Epoch 30/30\n",
            "721/721 [==============================] - 5s 7ms/step - loss: 0.2331 - accuracy: 0.9204 - val_loss: 0.2783 - val_accuracy: 0.9068\n"
          ]
        }
      ],
      "source": [
        "model_hist = model.fit(X_train_scaled, y_train_sub_labels, validation_data=(X_test_scaled, y_test_sub_labels), batch_size=32, epochs=30)"
      ]
    },
    {
      "cell_type": "code",
      "source": [
        "X_test_scaled.shape"
      ],
      "metadata": {
        "colab": {
          "base_uri": "https://localhost:8080/"
        },
        "id": "-an3OTGAiLCz",
        "outputId": "2dfce399-83d3-4073-d337-fc089aa4a140"
      },
      "id": "-an3OTGAiLCz",
      "execution_count": null,
      "outputs": [
        {
          "output_type": "execute_result",
          "data": {
            "text/plain": [
              "(11488, 96)"
            ]
          },
          "metadata": {},
          "execution_count": 65
        }
      ]
    },
    {
      "cell_type": "code",
      "source": [
        "# delete this (Hady's experiments)\n",
        "import timeit\n",
        "def predict(data_features, model):\n",
        "    pred_t_start = timeit.default_timer()\n",
        "    pred = model.predict(data_features)\n",
        "    pred_t_end = timeit.default_timer()\n",
        "    print(f'prediction time: {pred_t_end - pred_t_start}')\n",
        "\n",
        "predict(X_test_scaled[0].reshape((1,-1)), model)"
      ],
      "metadata": {
        "colab": {
          "base_uri": "https://localhost:8080/"
        },
        "id": "TqS8ICLMhZvl",
        "outputId": "941b8f9c-9236-4e71-fc12-4bef994cce16"
      },
      "id": "TqS8ICLMhZvl",
      "execution_count": null,
      "outputs": [
        {
          "output_type": "stream",
          "name": "stdout",
          "text": [
            "prediction time: 0.2140281199999663\n"
          ]
        }
      ]
    },
    {
      "cell_type": "code",
      "source": [
        "# import pickle\n",
        "\n",
        "file = open('dnn_model', 'wb')\n",
        "pickle.dump(model, file)\n",
        "file.close()\n"
      ],
      "metadata": {
        "id": "hnumHRBUi5go",
        "colab": {
          "base_uri": "https://localhost:8080/"
        },
        "outputId": "342b17b0-a976-4443-99ec-3cd96a4d1d78"
      },
      "id": "hnumHRBUi5go",
      "execution_count": null,
      "outputs": [
        {
          "output_type": "stream",
          "name": "stdout",
          "text": [
            "INFO:tensorflow:Assets written to: ram://6c15cfb0-5bcb-46ad-b969-f64e39ce4598/assets\n"
          ]
        }
      ]
    },
    {
      "cell_type": "code",
      "source": [
        "plt.plot(model_hist.history['accuracy'])\n",
        "plt.plot(model_hist.history['val_accuracy'])\n",
        "plt.xlabel(\"Epoch\")\n",
        "plt.ylabel(\"Accuracy\")\n",
        "plt.legend([\"Train\", \"Test\"])"
      ],
      "metadata": {
        "colab": {
          "base_uri": "https://localhost:8080/",
          "height": 534
        },
        "id": "uEqxM5ykdKpZ",
        "outputId": "ff68b82d-4b4c-41ed-e24c-1090da1b619b"
      },
      "id": "uEqxM5ykdKpZ",
      "execution_count": null,
      "outputs": [
        {
          "output_type": "execute_result",
          "data": {
            "text/plain": [
              "<matplotlib.legend.Legend at 0x7fe1bc7fffd0>"
            ]
          },
          "metadata": {},
          "execution_count": 43
        },
        {
          "output_type": "display_data",
          "data": {
            "image/png": "[encoded data removed]",
            "text/plain": [
              "<Figure size 842.4x595.44 with 1 Axes>"
            ]
          },
          "metadata": {}
        }
      ]
    },
    {
      "cell_type": "code",
      "source": [
        "plt.plot(model_hist.history['loss'])\n",
        "plt.plot(model_hist.history['val_loss'])\n",
        "plt.xlabel(\"Epoch\")\n",
        "plt.ylabel(\"Accuracy\")\n",
        "plt.legend([\"Train\", \"Test\"])"
      ],
      "metadata": {
        "colab": {
          "base_uri": "https://localhost:8080/",
          "height": 534
        },
        "id": "ThOl2NbBdKcc",
        "outputId": "8b26e4a3-ecfc-4fb0-c99c-ba76712652d2"
      },
      "id": "ThOl2NbBdKcc",
      "execution_count": null,
      "outputs": [
        {
          "output_type": "execute_result",
          "data": {
            "text/plain": [
              "<matplotlib.legend.Legend at 0x7fe1bc929890>"
            ]
          },
          "metadata": {},
          "execution_count": 44
        },
        {
          "output_type": "display_data",
          "data": {
            "image/png": "[encoded data removed]",
            "text/plain": [
              "<Figure size 842.4x595.44 with 1 Axes>"
            ]
          },
          "metadata": {}
        }
      ]
    },
    {
      "cell_type": "code",
      "source": [
        "import tensorflow as tf\n",
        "from sklearn.metrics import classification_report\n",
        "from sklearn.metrics import confusion_matrix, ConfusionMatrixDisplay\n",
        "\n",
        "predictions = model.predict(X_test_scaled)\n",
        "print(classification_report(y_test_sub_labels, predictions.argmax(axis=1), target_names=list(gesture_mapping.values())))\n",
        "cm = confusion_matrix(y_test_sub_labels, predictions.argmax(axis=1))\n",
        "disp = ConfusionMatrixDisplay(confusion_matrix=cm)\n",
        "fig, ax = plt.subplots(1,1,figsize=(20,20))\n",
        "disp.plot(ax=ax)\n",
        "plt.show()"
      ],
      "metadata": {
        "colab": {
          "base_uri": "https://localhost:8080/",
          "height": 1000
        },
        "id": "qbYYrxBbdZAR",
        "outputId": "ba2472b5-6b21-49d9-f34d-2a27b7e3caf2"
      },
      "id": "qbYYrxBbdZAR",
      "execution_count": null,
      "outputs": [
        {
          "output_type": "stream",
          "name": "stdout",
          "text": [
            "                 precision    recall  f1-score   support\n",
            "\n",
            "           Rest       0.94      0.98      0.96      7229\n",
            "      Thumbs Up       0.91      0.83      0.87       799\n",
            "    Hand Closed       0.86      0.89      0.87       656\n",
            " Pointing Index       0.87      0.81      0.84       733\n",
            "    Hand Opened       0.75      0.70      0.72       675\n",
            "  Wrist Flexion       0.87      0.75      0.80       745\n",
            "Wrist Extension       0.83      0.78      0.80       651\n",
            "\n",
            "       accuracy                           0.91     11488\n",
            "      macro avg       0.86      0.82      0.84     11488\n",
            "   weighted avg       0.91      0.91      0.91     11488\n",
            "\n"
          ]
        },
        {
          "output_type": "display_data",
          "data": {
            "image/png": "[encoded data removed]",
            "text/plain": [
              "<Figure size 1440x1440 with 2 Axes>"
            ]
          },
          "metadata": {}
        }
      ]
    },
    {
      "cell_type": "code",
      "source": [
        ""
      ],
      "metadata": {
        "id": "cZ5tRi7F-gkC"
      },
      "id": "cZ5tRi7F-gkC",
      "execution_count": null,
      "outputs": []
    }
  ],
  "metadata": {
    "kernelspec": {
      "display_name": "Python 3",
      "name": "python3"
    },
    "language_info": {
      "name": "python"
    },
    "colab": {
      "name": "DNN Classification using Exercise 2 .ipynb",
      "provenance": [],
      "collapsed_sections": []
    }
  },
  "nbformat": 4,
  "nbformat_minor": 5
}