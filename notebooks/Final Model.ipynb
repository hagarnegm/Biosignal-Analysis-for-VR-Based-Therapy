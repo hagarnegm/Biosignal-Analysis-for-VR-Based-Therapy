{
 "cells": [
  {
   "cell_type": "code",
   "execution_count": 1,
   "id": "1fa03cfb",
   "metadata": {},
   "outputs": [],
   "source": [
    "import warnings\n",
    "warnings.filterwarnings('ignore')"
   ]
  },
  {
   "cell_type": "code",
   "execution_count": 2,
   "id": "435f99a7",
   "metadata": {},
   "outputs": [],
   "source": [
    "import os\n",
    "import sys\n",
    "\n",
    "module_path = os.path.abspath(os.path.join('..'))\n",
    "if module_path not in sys.path:\n",
    "    sys.path.append(module_path)"
   ]
  },
  {
   "cell_type": "code",
   "execution_count": 3,
   "id": "f2a21420",
   "metadata": {},
   "outputs": [],
   "source": [
    "from src.features.extract_features import *\n",
    "from src.data.dataset import *"
   ]
  },
  {
   "cell_type": "code",
   "execution_count": 4,
   "id": "4ec3311a",
   "metadata": {},
   "outputs": [],
   "source": [
    "import glob\n",
    "import numpy as np\n",
    "import pandas as pd\n",
    "import seaborn as sns\n",
    "from datetime import datetime\n",
    "import matplotlib.pyplot as plt\n",
    "from sklearn.utils import shuffle\n",
    "\n",
    "from sklearn.preprocessing import StandardScaler\n",
    "from imblearn.under_sampling import RandomUnderSampler\n",
    "\n",
    "from sklearn.metrics import classification_report\n",
    "from sklearn.metrics import accuracy_score, balanced_accuracy_score\n",
    "from sklearn.metrics import confusion_matrix, ConfusionMatrixDisplay\n",
    "\n",
    "from tensorflow import keras\n",
    "from keras import Sequential, layers, initializers, optimizers, losses\n",
    "\n",
    "plt.rcParams[\"figure.figsize\"] = (20,3)\n",
    "plt.rcParams[\"figure.max_open_warning\"] = False"
   ]
  },
  {
   "cell_type": "code",
   "execution_count": 5,
   "id": "9b3e1bc1",
   "metadata": {},
   "outputs": [],
   "source": [
    "# output_dir = r\"C:\\Users\\Hagar\\Desktop\\Dataset\\Finalv2\"\n",
    "\n",
    "# for file in glob.glob(r\"C:\\Users\\Hagar\\Desktop\\Dataset\\Output\\*\\*.csv\"):\n",
    "#     data = pd.read_csv(file)\n",
    "    \n",
    "#     ch1_mean = data.Channel1[:100].mean()\n",
    "#     ch2_mean = data.Channel2[:100].mean()\n",
    "#     data.Channel1 = data.Channel1.apply(lambda x: x - ch1_mean)\n",
    "#     data.Channel2 = data.Channel2.apply(lambda x: x - ch2_mean)\n",
    "    \n",
    "#     fig, (ax1, ax2) = plt.subplots(1, 2)\n",
    "#     subject = file.split(\"\\\\\")[-2]\n",
    "#     gesture = file.split(\"\\\\\")[-1]\n",
    "#     fig.suptitle(subject + \" \" + gesture)\n",
    "#     samples = np.arange(len(data.Channel1))\n",
    "#     sns.lineplot(data = data, x=samples, y = \"Channel1\", hue = \"Label\", ax=ax1)\n",
    "#     sns.lineplot(data = data, x=samples, y = \"Channel2\", hue = \"Label\", ax=ax2)\n",
    "    \n",
    "#     data.to_csv(os.path.join(output_dir, \"\\\\\".join(file.split(\"\\\\\")[-2:])), index=False)"
   ]
  },
  {
   "cell_type": "code",
   "execution_count": 6,
   "id": "44106843",
   "metadata": {},
   "outputs": [],
   "source": [
    "def generate_dataset(data_dir, feature_set, win_size, win_stride, is_td=True):\n",
    "    start = datetime.now()\n",
    "    dataset = EmgDataset(data_dir, win_size, win_stride, feature_set, is_td)\n",
    "    end = datetime.now()\n",
    "    \n",
    "    print(\"Feature Extraction Time per Window: \", ((end-start).total_seconds()*1000)/dataset.extracted_features.shape[0])\n",
    "    \n",
    "    emg_features = dataset.extracted_features\n",
    "    labels = dataset.rolled_labels\n",
    "    reps = dataset.rolled_repetition\n",
    "    \n",
    "    train_rows = np.isin(reps, ['1','3','4']).ravel()\n",
    "    test_rows = np.isin(reps, ['2']).ravel()\n",
    "\n",
    "    train_emg = emg_features[train_rows]\n",
    "    y_train = labels[train_rows].ravel()\n",
    "\n",
    "    test_emg = emg_features[test_rows]\n",
    "    y_test = labels[test_rows].ravel()\n",
    "\n",
    "    print(f\"X_train shape: {train_emg.shape} y_train shape: {y_train.shape}\")\n",
    "    print(f\"X_test shape: {test_emg.shape} y_test shape: {y_test.shape}\")\n",
    "    \n",
    "    y_train = y_train[~np.isnan(train_emg).any(axis=1)]\n",
    "    train_emg = train_emg[~np.isnan(train_emg).any(axis=1)]\n",
    "\n",
    "    y_test = y_test[~np.isnan(test_emg).any(axis=1)]\n",
    "    test_emg = test_emg[~np.isnan(test_emg).any(axis=1)]\n",
    "    \n",
    "    return train_emg, test_emg, y_train, y_test\n",
    "\n",
    "def transform_dataset(train_emg, test_emg, y_train):\n",
    "    undersampler = RandomUnderSampler(random_state=0)\n",
    "    X_train_under, y_train_under = undersampler.fit_resample(train_emg, y_train)\n",
    "\n",
    "    X_train, y_train = shuffle(X_train_under, y_train_under, random_state=0)\n",
    "    \n",
    "    scaler = StandardScaler()\n",
    "    X_train_scaled = scaler.fit_transform(X_train)\n",
    "    X_test_scaled = scaler.transform(test_emg)\n",
    "    \n",
    "    return X_train_scaled, X_test_scaled, y_train\n",
    "\n",
    "def build_model():    \n",
    "    model = Sequential()\n",
    "    model.add(layers.Dense(128, kernel_initializer=initializers.HeNormal(), activation=\"relu\"))\n",
    "    model.add(layers.BatchNormalization())\n",
    "    model.add(layers.Dropout(0.2))\n",
    "    model.add(layers.Dense(192, kernel_initializer=initializers.HeNormal(), activation=\"relu\"))\n",
    "    model.add(layers.BatchNormalization())\n",
    "    model.add(layers.Dropout(0.5))\n",
    "    model.add(layers.Dense(320, kernel_initializer=initializers.HeNormal(), activation=\"relu\"))\n",
    "    model.add(layers.BatchNormalization())\n",
    "    model.add(layers.Dropout(0.1))\n",
    "    model.add(layers.Dense(6, activation=\"softmax\"))\n",
    "\n",
    "    model.compile(optimizer=keras.optimizers.Adam(learning_rate=0.001), loss=keras.losses.SparseCategoricalCrossentropy(), metrics=[\"accuracy\"])\n",
    "    \n",
    "    return model\n",
    "\n",
    "def evaluate_model(y_test, predictions):\n",
    "    acc = accuracy_score(y_test, predictions.argmax(axis=1))\n",
    "    balanced_acc = balanced_accuracy_score(y_test, predictions.argmax(axis=1))\n",
    "    return acc, balanced_acc\n",
    "\n",
    "def plot_results(y_test, predictions):\n",
    "    print(classification_report(y_test, predictions.argmax(axis=1)))\n",
    "    cm = confusion_matrix(y_test, predictions.argmax(axis=1))\n",
    "    disp = ConfusionMatrixDisplay(confusion_matrix=cm)\n",
    "    fig, ax = plt.subplots(1,1,figsize=(10,10))\n",
    "    disp.plot(ax=ax)\n",
    "    plt.show()"
   ]
  },
  {
   "cell_type": "code",
   "execution_count": 7,
   "id": "2993e344",
   "metadata": {},
   "outputs": [],
   "source": [
    "data_dir = r\"C:\\Users\\Hagar\\Desktop\\Dataset\\Final\""
   ]
  },
  {
   "cell_type": "code",
   "execution_count": 8,
   "id": "ecfbc8fe",
   "metadata": {},
   "outputs": [],
   "source": [
    "win_size = 200\n",
    "win_stride = 50"
   ]
  },
  {
   "cell_type": "code",
   "execution_count": 9,
   "id": "a6452b44",
   "metadata": {},
   "outputs": [],
   "source": [
    "callback = keras.callbacks.EarlyStopping(monitor='val_loss', patience=5)"
   ]
  },
  {
   "cell_type": "code",
   "execution_count": 10,
   "id": "e7bdab73",
   "metadata": {},
   "outputs": [
    {
     "name": "stdout",
     "output_type": "stream",
     "text": [
      "Feature Extraction Time per Window:  0.5000226468204887\n",
      "X_train shape: (93790, 42) y_train shape: (93790,)\n",
      "X_test shape: (39875, 42) y_test shape: (39875,)\n"
     ]
    }
   ],
   "source": [
    "feature_set = [\"skewness\", \"rms\", \"iemg\", \"ar_coeff\", \"hjorth\", \"mav\", \"zc\", \"ssc\", \"wl\"]\n",
    "train_emg, test_emg, y_train, y_test = generate_dataset(data_dir, feature_set, win_size, win_stride)\n",
    "X_train_scaled, X_test_scaled, y_train = transform_dataset(train_emg, test_emg, y_train)\n",
    "model = build_model()"
   ]
  },
  {
   "cell_type": "code",
   "execution_count": 11,
   "id": "39d26953",
   "metadata": {
    "collapsed": true
   },
   "outputs": [
    {
     "name": "stdout",
     "output_type": "stream",
     "text": [
      "Epoch 1/48\n",
      "1055/1055 [==============================] - 13s 6ms/step - loss: 1.2155 - accuracy: 0.5380 - val_loss: 0.7932 - val_accuracy: 0.7144\n",
      "Epoch 2/48\n",
      "1055/1055 [==============================] - 7s 7ms/step - loss: 0.9118 - accuracy: 0.6552 - val_loss: 0.6820 - val_accuracy: 0.7609\n",
      "Epoch 3/48\n",
      "1055/1055 [==============================] - 8s 8ms/step - loss: 0.8210 - accuracy: 0.6990 - val_loss: 0.6305 - val_accuracy: 0.7782\n",
      "Epoch 4/48\n",
      "1055/1055 [==============================] - 8s 8ms/step - loss: 0.7634 - accuracy: 0.7247 - val_loss: 0.5711 - val_accuracy: 0.8058\n",
      "Epoch 5/48\n",
      "1055/1055 [==============================] - 5s 5ms/step - loss: 0.7334 - accuracy: 0.7384 - val_loss: 0.5439 - val_accuracy: 0.8139\n",
      "Epoch 6/48\n",
      "1055/1055 [==============================] - 5s 4ms/step - loss: 0.6937 - accuracy: 0.7562 - val_loss: 0.5176 - val_accuracy: 0.8257\n",
      "Epoch 7/48\n",
      "1055/1055 [==============================] - 7s 7ms/step - loss: 0.6687 - accuracy: 0.7646 - val_loss: 0.5104 - val_accuracy: 0.8298\n",
      "Epoch 8/48\n",
      "1055/1055 [==============================] - 6s 6ms/step - loss: 0.6573 - accuracy: 0.7725 - val_loss: 0.4891 - val_accuracy: 0.8380\n",
      "Epoch 9/48\n",
      "1055/1055 [==============================] - 8s 8ms/step - loss: 0.6405 - accuracy: 0.7769 - val_loss: 0.4740 - val_accuracy: 0.8408\n",
      "Epoch 10/48\n",
      "1055/1055 [==============================] - 8s 8ms/step - loss: 0.6166 - accuracy: 0.7852 - val_loss: 0.4676 - val_accuracy: 0.8433\n",
      "Epoch 11/48\n",
      "1055/1055 [==============================] - 8s 8ms/step - loss: 0.6095 - accuracy: 0.7889 - val_loss: 0.4658 - val_accuracy: 0.8458\n",
      "Epoch 12/48\n",
      "1055/1055 [==============================] - 8s 8ms/step - loss: 0.5974 - accuracy: 0.7949 - val_loss: 0.4559 - val_accuracy: 0.8468\n",
      "Epoch 13/48\n",
      "1055/1055 [==============================] - 7s 7ms/step - loss: 0.5859 - accuracy: 0.7970 - val_loss: 0.4410 - val_accuracy: 0.8540\n",
      "Epoch 14/48\n",
      "1055/1055 [==============================] - 7s 6ms/step - loss: 0.5759 - accuracy: 0.8005 - val_loss: 0.4362 - val_accuracy: 0.8537\n",
      "Epoch 15/48\n",
      "1055/1055 [==============================] - 6s 5ms/step - loss: 0.5746 - accuracy: 0.8042 - val_loss: 0.4255 - val_accuracy: 0.8616\n",
      "Epoch 16/48\n",
      "1055/1055 [==============================] - 6s 6ms/step - loss: 0.5716 - accuracy: 0.8037 - val_loss: 0.4296 - val_accuracy: 0.8551\n",
      "Epoch 17/48\n",
      "1055/1055 [==============================] - 5s 5ms/step - loss: 0.5602 - accuracy: 0.8074 - val_loss: 0.4173 - val_accuracy: 0.8623\n",
      "Epoch 18/48\n",
      "1055/1055 [==============================] - 5s 5ms/step - loss: 0.5545 - accuracy: 0.8104 - val_loss: 0.4149 - val_accuracy: 0.8641\n",
      "Epoch 19/48\n",
      "1055/1055 [==============================] - 6s 5ms/step - loss: 0.5456 - accuracy: 0.8134 - val_loss: 0.4129 - val_accuracy: 0.8619\n",
      "Epoch 20/48\n",
      "1055/1055 [==============================] - 6s 6ms/step - loss: 0.5408 - accuracy: 0.8129 - val_loss: 0.4149 - val_accuracy: 0.8623\n",
      "Epoch 21/48\n",
      "1055/1055 [==============================] - 6s 6ms/step - loss: 0.5357 - accuracy: 0.8163 - val_loss: 0.3972 - val_accuracy: 0.8671\n",
      "Epoch 22/48\n",
      "1055/1055 [==============================] - 8s 7ms/step - loss: 0.5278 - accuracy: 0.8188 - val_loss: 0.3997 - val_accuracy: 0.8691\n",
      "Epoch 23/48\n",
      "1055/1055 [==============================] - 8s 8ms/step - loss: 0.5230 - accuracy: 0.8202 - val_loss: 0.3963 - val_accuracy: 0.8659\n",
      "Epoch 24/48\n",
      "1055/1055 [==============================] - 5s 5ms/step - loss: 0.5285 - accuracy: 0.8222 - val_loss: 0.3897 - val_accuracy: 0.8698\n",
      "Epoch 25/48\n",
      "1055/1055 [==============================] - 5s 5ms/step - loss: 0.5199 - accuracy: 0.8217 - val_loss: 0.3941 - val_accuracy: 0.8687\n",
      "Epoch 26/48\n",
      "1055/1055 [==============================] - 5s 5ms/step - loss: 0.5186 - accuracy: 0.8231 - val_loss: 0.3877 - val_accuracy: 0.8713\n",
      "Epoch 27/48\n",
      "1055/1055 [==============================] - 7s 7ms/step - loss: 0.5177 - accuracy: 0.8230 - val_loss: 0.3864 - val_accuracy: 0.8735\n",
      "Epoch 28/48\n",
      "1055/1055 [==============================] - 8s 7ms/step - loss: 0.5066 - accuracy: 0.8253 - val_loss: 0.3825 - val_accuracy: 0.8752\n",
      "Epoch 29/48\n",
      "1055/1055 [==============================] - 7s 7ms/step - loss: 0.5066 - accuracy: 0.8289 - val_loss: 0.3755 - val_accuracy: 0.8772\n",
      "Epoch 30/48\n",
      "1055/1055 [==============================] - 9s 8ms/step - loss: 0.5046 - accuracy: 0.8280 - val_loss: 0.3810 - val_accuracy: 0.8741\n",
      "Epoch 31/48\n",
      "1055/1055 [==============================] - 8s 8ms/step - loss: 0.4979 - accuracy: 0.8312 - val_loss: 0.3817 - val_accuracy: 0.8733\n",
      "Epoch 32/48\n",
      "1055/1055 [==============================] - 7s 7ms/step - loss: 0.4986 - accuracy: 0.8297 - val_loss: 0.3783 - val_accuracy: 0.8746\n",
      "Epoch 33/48\n",
      "1055/1055 [==============================] - 4s 4ms/step - loss: 0.4940 - accuracy: 0.8320 - val_loss: 0.3765 - val_accuracy: 0.8769\n",
      "Epoch 34/48\n",
      "1055/1055 [==============================] - 6s 5ms/step - loss: 0.4906 - accuracy: 0.8322 - val_loss: 0.3711 - val_accuracy: 0.8771\n",
      "Epoch 35/48\n",
      "1055/1055 [==============================] - 8s 7ms/step - loss: 0.4877 - accuracy: 0.8339 - val_loss: 0.3731 - val_accuracy: 0.8751\n",
      "Epoch 36/48\n",
      "1055/1055 [==============================] - 7s 6ms/step - loss: 0.4879 - accuracy: 0.8346 - val_loss: 0.3731 - val_accuracy: 0.8741\n",
      "Epoch 37/48\n",
      "1055/1055 [==============================] - 8s 8ms/step - loss: 0.4844 - accuracy: 0.8345 - val_loss: 0.3653 - val_accuracy: 0.8767\n",
      "Epoch 38/48\n",
      "1055/1055 [==============================] - 8s 7ms/step - loss: 0.4867 - accuracy: 0.8353 - val_loss: 0.3651 - val_accuracy: 0.8803\n",
      "Epoch 39/48\n",
      "1055/1055 [==============================] - 8s 8ms/step - loss: 0.4783 - accuracy: 0.8362 - val_loss: 0.3592 - val_accuracy: 0.8801\n",
      "Epoch 40/48\n",
      "1055/1055 [==============================] - 9s 8ms/step - loss: 0.4761 - accuracy: 0.8365 - val_loss: 0.3638 - val_accuracy: 0.8767\n",
      "Epoch 41/48\n",
      "1055/1055 [==============================] - 8s 8ms/step - loss: 0.4756 - accuracy: 0.8376 - val_loss: 0.3609 - val_accuracy: 0.8800\n",
      "Epoch 42/48\n",
      "1055/1055 [==============================] - 8s 8ms/step - loss: 0.4721 - accuracy: 0.8396 - val_loss: 0.3616 - val_accuracy: 0.8786\n",
      "Epoch 43/48\n",
      "1055/1055 [==============================] - 6s 5ms/step - loss: 0.4747 - accuracy: 0.8379 - val_loss: 0.3625 - val_accuracy: 0.8788\n",
      "Epoch 44/48\n",
      "1055/1055 [==============================] - 8s 8ms/step - loss: 0.4805 - accuracy: 0.8363 - val_loss: 0.3599 - val_accuracy: 0.8780\n"
     ]
    }
   ],
   "source": [
    "model_hist = model.fit(X_train_scaled, y_train, batch_size=32, epochs=48, callbacks=[callback], validation_split=0.3)"
   ]
  },
  {
   "cell_type": "code",
   "execution_count": 12,
   "id": "309e336e",
   "metadata": {
    "collapsed": true
   },
   "outputs": [
    {
     "name": "stdout",
     "output_type": "stream",
     "text": [
      "Prediction Time per Window:  0.12836876159903696\n",
      "Test Accuracy: 0.8495009279229573 Balanced Test Accuracy: 0.8262644115689349\n",
      "              precision    recall  f1-score   support\n",
      "\n",
      "           0       0.96      0.89      0.92     18715\n",
      "           1       0.78      0.84      0.81      4275\n",
      "           2       0.61      0.79      0.69      3644\n",
      "           3       0.65      0.73      0.69      4327\n",
      "           4       0.88      0.84      0.86      4513\n",
      "           5       0.94      0.86      0.90      4400\n",
      "\n",
      "    accuracy                           0.85     39874\n",
      "   macro avg       0.80      0.83      0.81     39874\n",
      "weighted avg       0.86      0.85      0.85     39874\n",
      "\n"
     ]
    },
    {
     "data": {
      "image/png": "[encoded data removed]",
      "text/plain": [
       "<Figure size 720x720 with 2 Axes>"
      ]
     },
     "metadata": {
      "needs_background": "light"
     },
     "output_type": "display_data"
    }
   ],
   "source": [
    "start = datetime.now()\n",
    "predictions = model.predict(X_test_scaled)\n",
    "end = datetime.now()\n",
    "\n",
    "print(\"Prediction Time per Window: \", ((end-start).total_seconds()*1000)/predictions.shape[0])\n",
    "\n",
    "acc, balanced_acc = evaluate_model(y_test, predictions)\n",
    "print(f\"Test Accuracy: {acc} Balanced Test Accuracy: {balanced_acc}\")\n",
    "\n",
    "plot_results(y_test, predictions)"
   ]
  },
  {
   "cell_type": "code",
   "execution_count": 13,
   "id": "ed5e2c3e",
   "metadata": {},
   "outputs": [
    {
     "name": "stdout",
     "output_type": "stream",
     "text": [
      "INFO:tensorflow:Assets written to: C:\\Users\\Hagar\\Desktop\\DNN Model\\dnn_model\\assets\n"
     ]
    }
   ],
   "source": [
    "model.save(r\"C:\\Users\\Hagar\\Desktop\\DNN Model\\dnn_model\")"
   ]
  },
  {
   "cell_type": "code",
   "execution_count": null,
   "id": "e474c743",
   "metadata": {},
   "outputs": [],
   "source": []
  }
 ],
 "metadata": {
  "kernelspec": {
   "display_name": "Python 3 (ipykernel)",
   "language": "python",
   "name": "python3"
  },
  "language_info": {
   "codemirror_mode": {
    "name": "ipython",
    "version": 3
   },
   "file_extension": ".py",
   "mimetype": "text/x-python",
   "name": "python",
   "nbconvert_exporter": "python",
   "pygments_lexer": "ipython3",
   "version": "3.9.7"
  }
 },
 "nbformat": 4,
 "nbformat_minor": 5
}
