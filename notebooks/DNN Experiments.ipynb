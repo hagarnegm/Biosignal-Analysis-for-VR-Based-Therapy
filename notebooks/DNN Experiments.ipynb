{
 "cells": [
  {
   "cell_type": "code",
   "execution_count": 11,
   "id": "61e6b8c7",
   "metadata": {},
   "outputs": [],
   "source": [
    "import os\n",
    "import sys\n",
    "\n",
    "module_path = os.path.abspath(os.path.join('..'))\n",
    "if module_path not in sys.path:\n",
    "    sys.path.append(module_path)"
   ]
  },
  {
   "cell_type": "code",
   "execution_count": 12,
   "id": "6999d7df",
   "metadata": {},
   "outputs": [],
   "source": [
    "from src.features.extract_features import *\n",
    "from src.data.dataset import *"
   ]
  },
  {
   "cell_type": "code",
   "execution_count": 13,
   "id": "a01c05ad",
   "metadata": {},
   "outputs": [],
   "source": [
    "data_dir = r\"C:\\Users\\Hagar\\Desktop\\Biosignal-Analysis-for-VR-Based-Therapy\\notebooks\\labeled\"\n",
    "\n",
    "feature_set = ['zc', 'ssc', 'wl', 'mav', 'rms']\n",
    "dataset = EmgDataset(data_dir, win_size=200, win_stride=50, feature_set=feature_set)"
   ]
  },
  {
   "cell_type": "code",
   "execution_count": 19,
   "id": "d1dcd746",
   "metadata": {},
   "outputs": [
    {
     "ename": "AttributeError",
     "evalue": "'EmgDataset' object has no attribute 'rolled_repetition'",
     "output_type": "error",
     "traceback": [
      "\u001b[1;31m---------------------------------------------------------------------------\u001b[0m",
      "\u001b[1;31mAttributeError\u001b[0m                            Traceback (most recent call last)",
      "\u001b[1;32m~\\AppData\\Local\\Temp/ipykernel_7080/3440260432.py\u001b[0m in \u001b[0;36m<module>\u001b[1;34m\u001b[0m\n\u001b[0;32m      1\u001b[0m \u001b[0memg_features\u001b[0m \u001b[1;33m=\u001b[0m \u001b[0mdataset\u001b[0m\u001b[1;33m.\u001b[0m\u001b[0mextracted_features\u001b[0m\u001b[1;33m\u001b[0m\u001b[1;33m\u001b[0m\u001b[0m\n\u001b[0;32m      2\u001b[0m \u001b[0mlabels\u001b[0m \u001b[1;33m=\u001b[0m \u001b[0mdataset\u001b[0m\u001b[1;33m.\u001b[0m\u001b[0mrolled_labels\u001b[0m\u001b[1;33m\u001b[0m\u001b[1;33m\u001b[0m\u001b[0m\n\u001b[1;32m----> 3\u001b[1;33m \u001b[0mreps\u001b[0m \u001b[1;33m=\u001b[0m \u001b[0mdataset\u001b[0m\u001b[1;33m.\u001b[0m\u001b[0mrolled_repetition\u001b[0m\u001b[1;33m\u001b[0m\u001b[1;33m\u001b[0m\u001b[0m\n\u001b[0m",
      "\u001b[1;31mAttributeError\u001b[0m: 'EmgDataset' object has no attribute 'rolled_repetition'"
     ]
    }
   ],
   "source": [
    "emg_features = dataset.extracted_features\n",
    "labels = dataset.rolled_labels\n",
    "reps = dataset.rolled_repetition"
   ]
  },
  {
   "cell_type": "code",
   "execution_count": null,
   "id": "2d846ca1",
   "metadata": {},
   "outputs": [],
   "source": [
    "train_rows = np.isin(reps, ['1','3','4']).ravel()\n",
    "test_rows = np.isin(reps, ['2']).ravel()\n",
    "\n",
    "train_emg = emg_features[train_rows]\n",
    "y_train = labels[train_rows].ravel()\n",
    "\n",
    "test_emg = emg_features[test_rows]\n",
    "y_test = labels[test_rows].ravel()\n",
    "\n",
    "print(f\"X_train shape: {train_emg.shape} y_train shape: {y_train.shape}\")\n",
    "print(f\"X_test shape: {test_emg.shape} y_test shape: {y_test.shape}\")"
   ]
  },
  {
   "cell_type": "code",
   "execution_count": null,
   "id": "43557986",
   "metadata": {},
   "outputs": [],
   "source": []
  }
 ],
 "metadata": {
  "kernelspec": {
   "display_name": "Python 3 (ipykernel)",
   "language": "python",
   "name": "python3"
  },
  "language_info": {
   "codemirror_mode": {
    "name": "ipython",
    "version": 3
   },
   "file_extension": ".py",
   "mimetype": "text/x-python",
   "name": "python",
   "nbconvert_exporter": "python",
   "pygments_lexer": "ipython3",
   "version": "3.9.7"
  }
 },
 "nbformat": 4,
 "nbformat_minor": 5
}
