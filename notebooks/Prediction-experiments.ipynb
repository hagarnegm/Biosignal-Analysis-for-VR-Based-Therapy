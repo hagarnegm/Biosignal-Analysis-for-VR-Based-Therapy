{
 "cells": [
  {
   "cell_type": "code",
   "execution_count": 1,
   "id": "979a4ee0",
   "metadata": {},
   "outputs": [],
   "source": [
    "import socket\n",
    "import time\n",
    "import keras\n",
    "import numpy as np"
   ]
  },
  {
   "cell_type": "code",
   "execution_count": 2,
   "id": "db40b7d6",
   "metadata": {},
   "outputs": [],
   "source": [
    "from src.features.extract_features import *\n",
    "from src.data.dataset import *"
   ]
  },
  {
   "cell_type": "code",
   "execution_count": 3,
   "id": "7f71ff61",
   "metadata": {},
   "outputs": [],
   "source": [
    "data_dir = r\"F:\\01UOttawa\\Graduation project\\models notebook\\Dataset\\Semi-final data\"\n",
    "feature_set = [\"skewness\", \"rms\", \"iemg\", \"ar_coeff\", \"hjorth\", \"mav\", \"zc\", \"ssc\", \"wl\"]"
   ]
  },
  {
   "cell_type": "code",
   "execution_count": null,
   "id": "aeb45451",
   "metadata": {},
   "outputs": [],
   "source": [
    "# host, port = '127.0.0.1', 25001  # identify the host address and its port \n",
    "# sock = socket.socket(socket.AF_INET, socket.SOCK_STREAM)  #creating streaming object from socket\n",
    "# sock.connect((host, port)) #initialize the connection"
   ]
  },
  {
   "cell_type": "code",
   "execution_count": 4,
   "id": "e528ecdf",
   "metadata": {},
   "outputs": [],
   "source": [
    "def get_data(data_dir, feature_set):\n",
    "    dataset = EmgDataset(data_dir, win_size = 200, win_stride = 50, feature_set = feature_set, is_td = True)\n",
    "    emg_features = dataset.extracted_features\n",
    "    labels = dataset.rolled_labels\n",
    "    reps = dataset.rolled_repetition\n",
    "    train_rows = np.isin(reps, ['1', '2', '3', '4']).ravel()\n",
    "    #test_rows = np.isin(reps, ['2']).ravel()\n",
    "\n",
    "    train_emg = emg_features\n",
    "    #y_train = labels.ravel()\n",
    "    \n",
    "    return train_emg"
   ]
  },
  {
   "cell_type": "code",
   "execution_count": 5,
   "id": "a8f7438d",
   "metadata": {},
   "outputs": [
    {
     "name": "stderr",
     "output_type": "stream",
     "text": [
      "f:\\programming\\python\\graduation project\\final v\\biosignal-analysis-for-vr-based-therapy\\src\\data\\dataset.py:79: FutureWarning: arrays to stack must be passed as a \"sequence\" type such as list or tuple. Support for non-sequence iterables such as generators is deprecated as of NumPy 1.16 and will raise an error in the future.\n",
      "  trial_rolled_emg = np.dstack(self.roll_window(self.raw_emg[i][:, j])\n",
      "f:\\programming\\python\\graduation project\\final v\\biosignal-analysis-for-vr-based-therapy\\src\\features\\extract_features.py:179: RuntimeWarning: invalid value encountered in true_divide\n",
      "  complexity = np.sqrt(var_d2 / var_d1) / morbidity\n"
     ]
    }
   ],
   "source": [
    "x_data = get_data(data_dir, feature_set)\n",
    "model = keras.models.load_model('../models/dnn_model')\n",
    "pred = model.predict(x_data)"
   ]
  },
  {
   "cell_type": "code",
   "execution_count": null,
   "id": "e0f7a96c",
   "metadata": {
    "scrolled": true
   },
   "outputs": [],
   "source": [
    "host, port = '127.0.0.1', 25002  # identify the host address and its port \n",
    "sock = socket.socket(socket.AF_INET, socket.SOCK_STREAM)  #creating streaming object from socket\n",
    "sock.connect((host, port)) #initialize the connection\n",
    "print('Connected')\n",
    "for i in range(len(pred)):\n",
    "    sock.sendall(str(np.argmax(pred[i])).encode(\"UTF-8\"))\n",
    "    print(str(np.argmax(pred[i])).encode(\"UTF-8\"))\n"
   ]
  },
  {
   "cell_type": "code",
   "execution_count": null,
   "id": "41857c44",
   "metadata": {},
   "outputs": [],
   "source": []
  },
  {
   "cell_type": "code",
   "execution_count": null,
   "id": "f7e0032e",
   "metadata": {},
   "outputs": [],
   "source": []
  },
  {
   "cell_type": "code",
   "execution_count": null,
   "id": "26c7910e",
   "metadata": {},
   "outputs": [],
   "source": []
  }
 ],
 "metadata": {
  "kernelspec": {
   "display_name": "Python 3 (ipykernel)",
   "language": "python",
   "name": "python3"
  },
  "language_info": {
   "codemirror_mode": {
    "name": "ipython",
    "version": 3
   },
   "file_extension": ".py",
   "mimetype": "text/x-python",
   "name": "python",
   "nbconvert_exporter": "python",
   "pygments_lexer": "ipython3",
   "version": "3.9.10"
  }
 },
 "nbformat": 4,
 "nbformat_minor": 5
}
