{
 "cells": [
  {
   "cell_type": "code",
   "execution_count": 6,
   "id": "20e98885",
   "metadata": {},
   "outputs": [],
   "source": [
    "import glob\n",
    "import numpy as np\n",
    "from scipy.signal import butter, lfilter\n",
    "from scipy.stats import linregress\n",
    "from scipy.signal import butter, sosfilt, sosfreqz\n",
    "import matplotlib.pyplot as plt"
   ]
  },
  {
   "cell_type": "code",
   "execution_count": 7,
   "id": "597708cc",
   "metadata": {},
   "outputs": [],
   "source": [
    "sigs = []\n",
    "titles = []\n",
    "time = []\n",
    "for file in glob.glob(\"lobna-signals/*\"):    \n",
    "    titles.append(file.split(\"/\")[-1])\n",
    "    with open(file, \"r\") as f:\n",
    "        lines = f.readlines()\n",
    "        signal = []\n",
    "        time_2 = []\n",
    "        for i, l in enumerate(lines):\n",
    "            signal.append(int(l.split(',')[1]))\n",
    "            time_2.append(int(float(l.split(',')[0])))\n",
    "        sigs.append(np.array(signal))\n",
    "        time.append(np.array(time_2))"
   ]
  },
  {
   "cell_type": "code",
   "execution_count": 8,
   "id": "7e808775",
   "metadata": {},
   "outputs": [
    {
     "data": {
      "text/plain": [
       "[]"
      ]
     },
     "execution_count": 8,
     "metadata": {},
     "output_type": "execute_result"
    }
   ],
   "source": [
    "def visualize_sigs(signals, titles):\n",
    "    fig, ax = plt.subplots(len(signals), 1, figsize=(20,10))\n",
    "    for i in range(len(signals)):\n",
    "        ax.plot(signals[i])\n",
    "        ax.set_title(titles[i])\n",
    "    plt.tight_layout()\n",
    "    \n",
    "def binarize(signal):\n",
    "    return signal - np.average(signal)\n",
    "\n"
   ]
  },
  {
   "cell_type": "code",
   "execution_count": null,
   "id": "90931936",
   "metadata": {},
   "outputs": [],
   "source": []
  },
  {
   "cell_type": "code",
   "execution_count": null,
   "id": "b23d82b3",
   "metadata": {},
   "outputs": [],
   "source": []
  },
  {
   "cell_type": "code",
   "execution_count": null,
   "id": "d67d27d5",
   "metadata": {},
   "outputs": [],
   "source": []
  }
 ],
 "metadata": {
  "kernelspec": {
   "display_name": "Python 3 (ipykernel)",
   "language": "python",
   "name": "python3"
  },
  "language_info": {
   "codemirror_mode": {
    "name": "ipython",
    "version": 3
   },
   "file_extension": ".py",
   "mimetype": "text/x-python",
   "name": "python",
   "nbconvert_exporter": "python",
   "pygments_lexer": "ipython3",
   "version": "3.9.7"
  }
 },
 "nbformat": 4,
 "nbformat_minor": 5
}
