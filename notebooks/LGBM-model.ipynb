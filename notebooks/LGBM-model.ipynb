{
 "cells": [
  {
   "cell_type": "code",
   "execution_count": 1,
   "id": "c1f71e5b",
   "metadata": {},
   "outputs": [],
   "source": [
    "from src.features.extract_features import *\n",
    "from src.data.dataset import *\n",
    "import warnings\n",
    "warnings.filterwarnings(\"ignore\")"
   ]
  },
  {
   "cell_type": "code",
   "execution_count": 2,
   "id": "77c4687a",
   "metadata": {},
   "outputs": [],
   "source": [
    "data_dir = r\"F:\\01UOttawa\\Graduation project\\models notebook\\Dataset\\Semi-final data\""
   ]
  },
  {
   "cell_type": "code",
   "execution_count": 6,
   "id": "ffef4b80",
   "metadata": {},
   "outputs": [],
   "source": [
    "from sklearn.metrics import accuracy_score, recall_score, balanced_accuracy_score, f1_score\n",
    "\n",
    "def eval_clf(y_true, y_pred):\n",
    "    acc = accuracy_score(y_true, y_pred)\n",
    "    balanced_acc = balanced_accuracy_score(y_true, y_pred)\n",
    "    recall = recall_score(y_true, y_pred, average = 'macro')\n",
    "    fscore = f1_score(y_true, y_pred, average = 'macro')\n",
    "    return acc, balanced_acc, recall, fscore"
   ]
  },
  {
   "cell_type": "code",
   "execution_count": 7,
   "id": "0e9a1eb6",
   "metadata": {},
   "outputs": [],
   "source": [
    "from lightgbm import LGBMClassifier as lgb\n",
    "from imblearn.under_sampling import RandomUnderSampler\n",
    "from imblearn.under_sampling import NearMiss"
   ]
  },
  {
   "cell_type": "code",
   "execution_count": 19,
   "id": "93bb7bf2",
   "metadata": {},
   "outputs": [],
   "source": [
    "model = lgb(learning_rate = 0.1, n_estimators = 2000)#boosting_type = 'rf', learning_rate = 0.05, n_estimators = 2000, bagging_freq = 20, bagging_fraction = 0.5)\n",
    "\n",
    "feature_sets = [#['RMS'],\n",
    "                #['ssc', 'zc', 'WL'],\n",
    "                ['mav', 'ssc', 'zc', 'WL'], # Hudgins\n",
    "                ['RMS', 'ssc', 'zc', 'WL'],\n",
    "                ['Var', 'ssc', 'zc', 'WL'],\n",
    "                ['mav', 'RMS', 'ssc', 'zc', 'WL'],\n",
    "                ['mav', 'Var', 'ssc', 'zc', 'WL'],\n",
    "                ['mav', 'RMS', 'Var', 'ssc', 'zc', 'WL'],\n",
    "                ['iEMG', 'WAMP', 'Var', 'ssc', 'zc', 'WL']]\n",
    "                #['skewness', 'RMS', 'iEMG', 'hjorth_params', ''],\n",
    "                #['mmnf', 'mmnf', 'mdf', 'mmdf']]"
   ]
  },
  {
   "cell_type": "code",
   "execution_count": 20,
   "id": "6ec9e482",
   "metadata": {
    "scrolled": true
   },
   "outputs": [
    {
     "name": "stdout",
     "output_type": "stream",
     "text": [
      "Features: ['mav', 'ssc', 'zc', 'WL']\n",
      "train acc: 1.0 test acc: 0.7962232671014713\n",
      "balanced train acc: 1.0 balanced test acc: 0.7015868142839049\n",
      "train recall: 1.0 test recall: 0.7015868142839049\n",
      "train f1_score: 1.0 test f1_score: 0.7007455111174341\n",
      "==================================================================================\n",
      "Features: ['RMS', 'ssc', 'zc', 'WL']\n",
      "train acc: 1.0 test acc: 0.8016330451488953\n",
      "balanced train acc: 1.0 balanced test acc: 0.7129196961105585\n",
      "train recall: 1.0 test recall: 0.7129196961105585\n",
      "train f1_score: 1.0 test f1_score: 0.7108599499057336\n",
      "==================================================================================\n",
      "Features: ['Var', 'ssc', 'zc', 'WL']\n",
      "train acc: 1.0 test acc: 0.8114667071136054\n",
      "balanced train acc: 1.0 balanced test acc: 0.7279051460152761\n",
      "train recall: 1.0 test recall: 0.7279051460152761\n",
      "train f1_score: 1.0 test f1_score: 0.7261499472026056\n",
      "==================================================================================\n",
      "Features: ['mav', 'RMS', 'ssc', 'zc', 'WL']\n",
      "train acc: 1.0 test acc: 0.8041356994792457\n",
      "balanced train acc: 1.0 balanced test acc: 0.7148727152380793\n",
      "train recall: 1.0 test recall: 0.7148727152380793\n",
      "train f1_score: 1.0 test f1_score: 0.7151506669086456\n",
      "==================================================================================\n",
      "Features: ['mav', 'Var', 'ssc', 'zc', 'WL']\n",
      "train acc: 1.0 test acc: 0.8134637747105516\n",
      "balanced train acc: 1.0 balanced test acc: 0.7298946510019051\n",
      "train recall: 1.0 test recall: 0.7298946510019051\n",
      "train f1_score: 1.0 test f1_score: 0.7301421894515342\n",
      "==================================================================================\n",
      "Features: ['mav', 'RMS', 'Var', 'ssc', 'zc', 'WL']\n",
      "train acc: 0.7259876726980031 test acc: 0.7105263157894737\n",
      "balanced train acc: 0.6053197047173248 balanced test acc: 0.5820936130257326\n",
      "train recall: 0.6053197047173248 test recall: 0.5820936130257326\n",
      "train f1_score: 0.6015386571908198 test f1_score: 0.5741722438749733\n",
      "==================================================================================\n",
      "Features: ['iEMG', 'WAMP', 'Var', 'ssc', 'zc', 'WL']\n",
      "train acc: 1.0 test acc: 0.8121492492037009\n",
      "balanced train acc: 1.0 balanced test acc: 0.7279415185878909\n",
      "train recall: 1.0 test recall: 0.7279415185878909\n",
      "train f1_score: 1.0 test f1_score: 0.7284576588150888\n",
      "==================================================================================\n"
     ]
    }
   ],
   "source": [
    "for fs in feature_sets:\n",
    "    dataset = EmgDataset(data_dir, win_size = 200, win_stride = 40, feature_set = fs)\n",
    "    emg_features = dataset.extracted_features\n",
    "    labels = dataset.rolled_labels\n",
    "    reps = dataset.rolled_repetition\n",
    "    train_rows = np.isin(reps, ['1','3','4']).ravel()\n",
    "    test_rows = np.isin(reps, ['2']).ravel()\n",
    "\n",
    "    train_emg = emg_features[train_rows]\n",
    "    y_train = labels[train_rows].ravel()\n",
    "\n",
    "    test_emg = emg_features[test_rows]\n",
    "    y_test = labels[test_rows].ravel()\n",
    "    \n",
    "    #under sampling\n",
    "#     rus = RandomUnderSampler(random_state = 0, sampling_strategy = 'majority')\n",
    "#     x_res_rus, y_res_rus = rus.fit_resample(train_emg, y_train)\n",
    "    \n",
    "#     undersample = NearMiss(version=1, n_neighbors=3)\n",
    "#     x_res_rus, y_res_rus = undersample.fit_resample(train_emg, y_train)\n",
    "    \n",
    "    \n",
    "    model.fit(train_emg, y_train)\n",
    "    train_preds = model.predict(train_emg)\n",
    "    test_preds = model.predict(test_emg)\n",
    "    train_acc, bal_train_acc, train_recall, train_fscore = eval_clf(y_train, train_preds)\n",
    "    test_acc, bal_test_acc, test_recall, test_fscore = eval_clf(y_test, test_preds)\n",
    "    \n",
    "    print(f'Features: {fs}')\n",
    "    print(f\"train acc: {train_acc} test acc: {test_acc}\")\n",
    "    print(f\"balanced train acc: {bal_train_acc} balanced test acc: {bal_test_acc}\")\n",
    "    print(f\"train recall: {train_recall} test recall: {test_recall}\")\n",
    "    print(f\"train f1_score: {train_fscore} test f1_score: {test_fscore}\")\n",
    "    print('==================================================================================')\n",
    "    "
   ]
  },
  {
   "cell_type": "code",
   "execution_count": null,
   "id": "62991ed3",
   "metadata": {},
   "outputs": [],
   "source": [
    "from collections import Counter\n",
    "\n",
    "print('y_train')\n",
    "print(Counter(y_train).keys())\n",
    "print(Counter(y_train).values())\n",
    "print('==================================================================================')\n",
    "\n",
    "print('y under sampling')\n",
    "print(Counter(y_res_rus).keys())\n",
    "print(Counter(y_res_rus).values())\n",
    "print('==================================================================================')\n",
    "\n",
    "print('y_test')\n",
    "print(Counter(y_test).keys())\n",
    "print(Counter(y_test).values())\n",
    "print('==================================================================================')\n",
    "\n",
    "print('test_preds')\n",
    "print(Counter(test_preds).keys())\n",
    "print(Counter(test_preds).values())\n",
    "print('==================================================================================')\n"
   ]
  },
  {
   "cell_type": "code",
   "execution_count": null,
   "id": "fbafc577",
   "metadata": {},
   "outputs": [],
   "source": []
  },
  {
   "cell_type": "code",
   "execution_count": null,
   "id": "f1c2c600",
   "metadata": {},
   "outputs": [],
   "source": []
  }
 ],
 "metadata": {
  "kernelspec": {
   "display_name": "Python 3 (ipykernel)",
   "language": "python",
   "name": "python3"
  },
  "language_info": {
   "codemirror_mode": {
    "name": "ipython",
    "version": 3
   },
   "file_extension": ".py",
   "mimetype": "text/x-python",
   "name": "python",
   "nbconvert_exporter": "python",
   "pygments_lexer": "ipython3",
   "version": "3.9.10"
  }
 },
 "nbformat": 4,
 "nbformat_minor": 5
}
